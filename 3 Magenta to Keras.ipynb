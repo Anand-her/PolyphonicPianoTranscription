{
 "cells": [
  {
   "cell_type": "code",
   "execution_count": 1,
   "metadata": {},
   "outputs": [
    {
     "name": "stderr",
     "output_type": "stream",
     "text": [
      "Using TensorFlow backend.\n"
     ]
    }
   ],
   "source": [
    "from matplotlib import pyplot as plt\n",
    "%config InlineBackend.figure_format = 'retina'\n",
    "\n",
    "from glob import glob\n",
    "\n",
    "import numpy as np\n",
    "\n",
    "from tensorflow                   import Session\n",
    "from tensorflow.contrib.framework import list_variables, load_variable\n",
    "\n",
    "from keras                 import backend as K\n",
    "from keras.layers          import Activation, BatchNormalization, Bidirectional, concatenate, \\\n",
    "                                  Conv2D, Dense, Input, LSTM, MaxPool2D, Reshape\n",
    "from keras.models          import load_model, Model\n",
    "\n",
    "from librosa               import midi_to_hz\n",
    "from sklearn.metrics       import auc, roc_curve\n",
    "from sklearn.preprocessing import binarize\n",
    "\n",
    "from magenta.music.sequences_lib                           import pianoroll_to_note_sequence\n",
    "from magenta.models.onsets_frames_transcription.infer_util import sequence_to_valued_intervals\n",
    "from mir_eval.transcription                                import precision_recall_f1_overlap as Overlap\n",
    "from mir_eval.transcription_velocity                       import precision_recall_f1_overlap as OverlapVolumes"
   ]
  },
  {
   "cell_type": "code",
   "execution_count": 2,
   "metadata": {},
   "outputs": [
    {
     "name": "stdout",
     "output_type": "stream",
     "text": [
      "3088 validation samples,\tMels decibels in range [-87 ... -31 ... 40]\n",
      "Midi normalized volumes in range [0.0 ... 0.0033 ... 0.99]\n"
     ]
    }
   ],
   "source": [
    "dataFolder, melsMinMin, melsMinMax, melsMeanMin, melsMeanMax, melsMaxMin, melsMaxMax \\\n",
    "    = 'Maestro/5-20 seconds', -87, -86, -31, -30, 40, 41\n",
    "\n",
    "melsVal = np.load(dataFolder + '/Mels validation.npy')\n",
    "print(len(melsVal), 'validation samples,', end='\\t')\n",
    "melsValMin, melsValMean, melsValMax = melsVal.min(), melsVal.mean(), melsVal.max()\n",
    "assert melsMinMin < melsValMin < melsMinMax and melsMeanMin < melsValMean < melsMeanMax \\\n",
    "    and melsMaxMin < melsValMax < melsMaxMax, 'Wrong mels decibels range'\n",
    "print('Mels decibels in range [{:.0f} ... {:.0f} ... {:.0f}]'.format(melsValMin, melsValMean, melsValMax))\n",
    "\n",
    "onVal, offVal, actVal, volsVal = map(np.load, ['{}/{} validation.npy'.format(\n",
    "    dataFolder, name) for name in ['Onsets', 'Offsets', 'Actives', 'Volumes']])\n",
    "volsValMin, volsValMean, volsValMax = volsVal.min(), volsVal.mean(), volsVal.max()\n",
    "assert volsValMin == 0 and 0 < volsValMax <= 1, 'Wrong normalized MIDI volumes range'\n",
    "print('Midi normalized volumes in range [{} ... {:.4f} ... {:.2f}]'.format(volsValMin, volsValMean, volsValMax))"
   ]
  },
  {
   "cell_type": "markdown",
   "metadata": {},
   "source": [
    "Instead of training my own model, I just copy the weights from the Google's pre-trained tensorflow checkpoint:\n",
    "https://storage.googleapis.com/magentadata/models/onsets_frames_transcription/maestro_checkpoint.zip\n",
    "(or look for the link here: https://github.com/tensorflow/magenta/tree/master/magenta/models/onsets_frames_transcription)"
   ]
  },
  {
   "cell_type": "code",
   "execution_count": 3,
   "metadata": {
    "scrolled": false
   },
   "outputs": [
    {
     "name": "stdout",
     "output_type": "stream",
     "text": [
      "WARNING:tensorflow:From C:\\Users\\Evgeniy\\Anaconda3\\lib\\site-packages\\tensorflow\\python\\framework\\op_def_library.py:263: colocate_with (from tensorflow.python.framework.ops) is deprecated and will be removed in a future version.\n",
      "Instructions for updating:\n",
      "Colocations handled automatically by placer.\n",
      "<tf.Variable 'conv2d_1/kernel:0' shape=(3, 3, 1, 48) dtype=float32_ref>\n",
      "\n",
      "<tf.Variable 'batch_normalization_1/beta:0' shape=(48,) dtype=float32_ref>\n",
      "<tf.Variable 'batch_normalization_1/moving_mean:0' shape=(48,) dtype=float32_ref>\n",
      "<tf.Variable 'batch_normalization_1/moving_variance:0' shape=(48,) dtype=float32_ref>\n",
      "\n",
      "<tf.Variable 'conv2d_2/kernel:0' shape=(3, 3, 48, 48) dtype=float32_ref>\n",
      "\n",
      "<tf.Variable 'batch_normalization_2/beta:0' shape=(48,) dtype=float32_ref>\n",
      "<tf.Variable 'batch_normalization_2/moving_mean:0' shape=(48,) dtype=float32_ref>\n",
      "<tf.Variable 'batch_normalization_2/moving_variance:0' shape=(48,) dtype=float32_ref>\n",
      "\n",
      "<tf.Variable 'conv2d_3/kernel:0' shape=(3, 3, 48, 96) dtype=float32_ref>\n",
      "\n",
      "<tf.Variable 'batch_normalization_3/beta:0' shape=(96,) dtype=float32_ref>\n",
      "<tf.Variable 'batch_normalization_3/moving_mean:0' shape=(96,) dtype=float32_ref>\n",
      "<tf.Variable 'batch_normalization_3/moving_variance:0' shape=(96,) dtype=float32_ref>\n",
      "\n",
      "<tf.Variable 'dense_2/kernel:0' shape=(5472, 768) dtype=float32_ref>\n",
      "<tf.Variable 'dense_2/bias:0' shape=(768,) dtype=float32_ref>\n",
      "\n",
      "<tf.Variable 'bidirectional_1/forward_lstm_1/kernel:0' shape=(768, 1024) dtype=float32_ref>\n",
      "<tf.Variable 'bidirectional_1/forward_lstm_1/recurrent_kernel:0' shape=(256, 1024) dtype=float32_ref>\n",
      "<tf.Variable 'bidirectional_1/forward_lstm_1/bias:0' shape=(1024,) dtype=float32_ref>\n",
      "<tf.Variable 'bidirectional_1/backward_lstm_1/kernel:0' shape=(768, 1024) dtype=float32_ref>\n",
      "<tf.Variable 'bidirectional_1/backward_lstm_1/recurrent_kernel:0' shape=(256, 1024) dtype=float32_ref>\n",
      "<tf.Variable 'bidirectional_1/backward_lstm_1/bias:0' shape=(1024,) dtype=float32_ref>\n",
      "\n",
      "<tf.Variable 'dense_1/kernel:0' shape=(512, 88) dtype=float32_ref>\n",
      "<tf.Variable 'dense_1/bias:0' shape=(88,) dtype=float32_ref>\n",
      "\n",
      "beta1_power\t[]\n",
      "beta2_power\t[]\n",
      "frame/activation_probs/biases\t[88]\n",
      "frame/activation_probs/biases/Adam\t[88]\n",
      "frame/activation_probs/biases/Adam_1\t[88]\n",
      "frame/activation_probs/weights\t[768, 88]\n",
      "frame/activation_probs/weights/Adam\t[768, 88]\n",
      "frame/activation_probs/weights/Adam_1\t[768, 88]\n",
      "frame/conv0/BatchNorm/beta\t[48]\n",
      "frame/conv0/BatchNorm/beta/Adam\t[48]\n",
      "frame/conv0/BatchNorm/beta/Adam_1\t[48]\n",
      "frame/conv0/BatchNorm/moving_mean\t[48]\n",
      "frame/conv0/BatchNorm/moving_variance\t[48]\n",
      "frame/conv0/weights\t[3, 3, 1, 48]\n",
      "frame/conv0/weights/Adam\t[3, 3, 1, 48]\n",
      "frame/conv0/weights/Adam_1\t[3, 3, 1, 48]\n",
      "frame/conv1/BatchNorm/beta\t[48]\n",
      "frame/conv1/BatchNorm/beta/Adam\t[48]\n",
      "frame/conv1/BatchNorm/beta/Adam_1\t[48]\n",
      "frame/conv1/BatchNorm/moving_mean\t[48]\n",
      "frame/conv1/BatchNorm/moving_variance\t[48]\n",
      "frame/conv1/weights\t[3, 3, 48, 48]\n",
      "frame/conv1/weights/Adam\t[3, 3, 48, 48]\n",
      "frame/conv1/weights/Adam_1\t[3, 3, 48, 48]\n",
      "frame/conv2/BatchNorm/beta\t[96]\n",
      "frame/conv2/BatchNorm/beta/Adam\t[96]\n",
      "frame/conv2/BatchNorm/beta/Adam_1\t[96]\n",
      "frame/conv2/BatchNorm/moving_mean\t[96]\n",
      "frame/conv2/BatchNorm/moving_variance\t[96]\n",
      "frame/conv2/weights\t[3, 3, 48, 96]\n",
      "frame/conv2/weights/Adam\t[3, 3, 48, 96]\n",
      "frame/conv2/weights/Adam_1\t[3, 3, 48, 96]\n",
      "frame/cudnn_lstm/opaque_kernel\t[1069056]\n",
      "frame/cudnn_lstm/opaque_kernel/Adam\t[1069056]\n",
      "frame/cudnn_lstm/opaque_kernel/Adam_1\t[1069056]\n",
      "frame/cudnn_lstm/stack_bidirectional_rnn/cell_0/bidirectional_rnn/bw/cudnn_compatible_lstm_cell/bias\t[1024]\n",
      "frame/cudnn_lstm/stack_bidirectional_rnn/cell_0/bidirectional_rnn/bw/cudnn_compatible_lstm_cell/kernel\t[520, 1024]\n",
      "frame/cudnn_lstm/stack_bidirectional_rnn/cell_0/bidirectional_rnn/fw/cudnn_compatible_lstm_cell/bias\t[1024]\n",
      "frame/cudnn_lstm/stack_bidirectional_rnn/cell_0/bidirectional_rnn/fw/cudnn_compatible_lstm_cell/kernel\t[520, 1024]\n",
      "frame/fc_end/biases\t[768]\n",
      "frame/fc_end/biases/Adam\t[768]\n",
      "frame/fc_end/biases/Adam_1\t[768]\n",
      "frame/fc_end/weights\t[5472, 768]\n",
      "frame/fc_end/weights/Adam\t[5472, 768]\n",
      "frame/fc_end/weights/Adam_1\t[5472, 768]\n",
      "frame/frame_probs/biases\t[88]\n",
      "frame/frame_probs/biases/Adam\t[88]\n",
      "frame/frame_probs/biases/Adam_1\t[88]\n",
      "frame/frame_probs/weights\t[512, 88]\n",
      "frame/frame_probs/weights/Adam\t[512, 88]\n",
      "frame/frame_probs/weights/Adam_1\t[512, 88]\n",
      "global_step\t[]\n",
      "offsets/conv0/BatchNorm/beta\t[48]\n",
      "offsets/conv0/BatchNorm/beta/Adam\t[48]\n",
      "offsets/conv0/BatchNorm/beta/Adam_1\t[48]\n",
      "offsets/conv0/BatchNorm/moving_mean\t[48]\n",
      "offsets/conv0/BatchNorm/moving_variance\t[48]\n",
      "offsets/conv0/weights\t[3, 3, 1, 48]\n",
      "offsets/conv0/weights/Adam\t[3, 3, 1, 48]\n",
      "offsets/conv0/weights/Adam_1\t[3, 3, 1, 48]\n",
      "offsets/conv1/BatchNorm/beta\t[48]\n",
      "offsets/conv1/BatchNorm/beta/Adam\t[48]\n",
      "offsets/conv1/BatchNorm/beta/Adam_1\t[48]\n",
      "offsets/conv1/BatchNorm/moving_mean\t[48]\n",
      "offsets/conv1/BatchNorm/moving_variance\t[48]\n",
      "offsets/conv1/weights\t[3, 3, 48, 48]\n",
      "offsets/conv1/weights/Adam\t[3, 3, 48, 48]\n",
      "offsets/conv1/weights/Adam_1\t[3, 3, 48, 48]\n",
      "offsets/conv2/BatchNorm/beta\t[96]\n",
      "offsets/conv2/BatchNorm/beta/Adam\t[96]\n",
      "offsets/conv2/BatchNorm/beta/Adam_1\t[96]\n",
      "offsets/conv2/BatchNorm/moving_mean\t[96]\n",
      "offsets/conv2/BatchNorm/moving_variance\t[96]\n",
      "offsets/conv2/weights\t[3, 3, 48, 96]\n",
      "offsets/conv2/weights/Adam\t[3, 3, 48, 96]\n",
      "offsets/conv2/weights/Adam_1\t[3, 3, 48, 96]\n",
      "offsets/cudnn_lstm/opaque_kernel\t[2101248]\n",
      "offsets/cudnn_lstm/opaque_kernel/Adam\t[2101248]\n",
      "offsets/cudnn_lstm/opaque_kernel/Adam_1\t[2101248]\n",
      "offsets/cudnn_lstm/stack_bidirectional_rnn/cell_0/bidirectional_rnn/bw/cudnn_compatible_lstm_cell/bias\t[1024]\n",
      "offsets/cudnn_lstm/stack_bidirectional_rnn/cell_0/bidirectional_rnn/bw/cudnn_compatible_lstm_cell/kernel\t[1024, 1024]\n",
      "offsets/cudnn_lstm/stack_bidirectional_rnn/cell_0/bidirectional_rnn/fw/cudnn_compatible_lstm_cell/bias\t[1024]\n",
      "offsets/cudnn_lstm/stack_bidirectional_rnn/cell_0/bidirectional_rnn/fw/cudnn_compatible_lstm_cell/kernel\t[1024, 1024]\n",
      "offsets/fc_end/biases\t[768]\n",
      "offsets/fc_end/biases/Adam\t[768]\n",
      "offsets/fc_end/biases/Adam_1\t[768]\n",
      "offsets/fc_end/weights\t[5472, 768]\n",
      "offsets/fc_end/weights/Adam\t[5472, 768]\n",
      "offsets/fc_end/weights/Adam_1\t[5472, 768]\n",
      "offsets/offset_probs/biases\t[88]\n",
      "offsets/offset_probs/biases/Adam\t[88]\n",
      "offsets/offset_probs/biases/Adam_1\t[88]\n",
      "offsets/offset_probs/weights\t[512, 88]\n",
      "offsets/offset_probs/weights/Adam\t[512, 88]\n",
      "offsets/offset_probs/weights/Adam_1\t[512, 88]\n",
      "onsets/conv0/BatchNorm/beta\t[48]\n",
      "onsets/conv0/BatchNorm/beta/Adam\t[48]\n",
      "onsets/conv0/BatchNorm/beta/Adam_1\t[48]\n",
      "onsets/conv0/BatchNorm/moving_mean\t[48]\n",
      "onsets/conv0/BatchNorm/moving_variance\t[48]\n",
      "onsets/conv0/weights\t[3, 3, 1, 48]\n",
      "onsets/conv0/weights/Adam\t[3, 3, 1, 48]\n",
      "onsets/conv0/weights/Adam_1\t[3, 3, 1, 48]\n",
      "onsets/conv1/BatchNorm/beta\t[48]\n",
      "onsets/conv1/BatchNorm/beta/Adam\t[48]\n",
      "onsets/conv1/BatchNorm/beta/Adam_1\t[48]\n",
      "onsets/conv1/BatchNorm/moving_mean\t[48]\n",
      "onsets/conv1/BatchNorm/moving_variance\t[48]\n",
      "onsets/conv1/weights\t[3, 3, 48, 48]\n",
      "onsets/conv1/weights/Adam\t[3, 3, 48, 48]\n",
      "onsets/conv1/weights/Adam_1\t[3, 3, 48, 48]\n",
      "onsets/conv2/BatchNorm/beta\t[96]\n",
      "onsets/conv2/BatchNorm/beta/Adam\t[96]\n",
      "onsets/conv2/BatchNorm/beta/Adam_1\t[96]\n",
      "onsets/conv2/BatchNorm/moving_mean\t[96]\n",
      "onsets/conv2/BatchNorm/moving_variance\t[96]\n",
      "onsets/conv2/weights\t[3, 3, 48, 96]\n",
      "onsets/conv2/weights/Adam\t[3, 3, 48, 96]\n",
      "onsets/conv2/weights/Adam_1\t[3, 3, 48, 96]\n",
      "onsets/cudnn_lstm/opaque_kernel\t[2101248]\n",
      "onsets/cudnn_lstm/opaque_kernel/Adam\t[2101248]\n",
      "onsets/cudnn_lstm/opaque_kernel/Adam_1\t[2101248]\n",
      "onsets/cudnn_lstm/stack_bidirectional_rnn/cell_0/bidirectional_rnn/bw/cudnn_compatible_lstm_cell/bias\t[1024]\n",
      "onsets/cudnn_lstm/stack_bidirectional_rnn/cell_0/bidirectional_rnn/bw/cudnn_compatible_lstm_cell/kernel\t[1024, 1024]\n",
      "onsets/cudnn_lstm/stack_bidirectional_rnn/cell_0/bidirectional_rnn/fw/cudnn_compatible_lstm_cell/bias\t[1024]\n",
      "onsets/cudnn_lstm/stack_bidirectional_rnn/cell_0/bidirectional_rnn/fw/cudnn_compatible_lstm_cell/kernel\t[1024, 1024]\n",
      "onsets/fc_end/biases\t[768]\n",
      "onsets/fc_end/biases/Adam\t[768]\n",
      "onsets/fc_end/biases/Adam_1\t[768]\n",
      "onsets/fc_end/weights\t[5472, 768]\n",
      "onsets/fc_end/weights/Adam\t[5472, 768]\n",
      "onsets/fc_end/weights/Adam_1\t[5472, 768]\n",
      "onsets/onset_probs/biases\t[88]\n",
      "onsets/onset_probs/biases/Adam\t[88]\n",
      "onsets/onset_probs/biases/Adam_1\t[88]\n",
      "onsets/onset_probs/weights\t[512, 88]\n",
      "onsets/onset_probs/weights/Adam\t[512, 88]\n",
      "onsets/onset_probs/weights/Adam_1\t[512, 88]\n",
      "velocity/conv0/BatchNorm/beta\t[48]\n",
      "velocity/conv0/BatchNorm/beta/Adam\t[48]\n",
      "velocity/conv0/BatchNorm/beta/Adam_1\t[48]\n",
      "velocity/conv0/BatchNorm/moving_mean\t[48]\n",
      "velocity/conv0/BatchNorm/moving_variance\t[48]\n",
      "velocity/conv0/weights\t[3, 3, 1, 48]\n",
      "velocity/conv0/weights/Adam\t[3, 3, 1, 48]\n",
      "velocity/conv0/weights/Adam_1\t[3, 3, 1, 48]\n",
      "velocity/conv1/BatchNorm/beta\t[48]\n",
      "velocity/conv1/BatchNorm/beta/Adam\t[48]\n",
      "velocity/conv1/BatchNorm/beta/Adam_1\t[48]\n",
      "velocity/conv1/BatchNorm/moving_mean\t[48]\n",
      "velocity/conv1/BatchNorm/moving_variance\t[48]\n",
      "velocity/conv1/weights\t[3, 3, 48, 48]\n",
      "velocity/conv1/weights/Adam\t[3, 3, 48, 48]\n",
      "velocity/conv1/weights/Adam_1\t[3, 3, 48, 48]\n",
      "velocity/conv2/BatchNorm/beta\t[96]\n",
      "velocity/conv2/BatchNorm/beta/Adam\t[96]\n",
      "velocity/conv2/BatchNorm/beta/Adam_1\t[96]\n",
      "velocity/conv2/BatchNorm/moving_mean\t[96]\n",
      "velocity/conv2/BatchNorm/moving_variance\t[96]\n",
      "velocity/conv2/weights\t[3, 3, 48, 96]\n",
      "velocity/conv2/weights/Adam\t[3, 3, 48, 96]\n",
      "velocity/conv2/weights/Adam_1\t[3, 3, 48, 96]\n",
      "velocity/fc_end/biases\t[768]\n",
      "velocity/fc_end/biases/Adam\t[768]\n",
      "velocity/fc_end/biases/Adam_1\t[768]\n",
      "velocity/fc_end/weights\t[5472, 768]\n",
      "velocity/fc_end/weights/Adam\t[5472, 768]\n",
      "velocity/fc_end/weights/Adam_1\t[5472, 768]\n",
      "velocity/onset_velocities/biases\t[88]\n",
      "velocity/onset_velocities/biases/Adam\t[88]\n",
      "velocity/onset_velocities/biases/Adam_1\t[88]\n",
      "velocity/onset_velocities/weights\t[768, 88]\n",
      "velocity/onset_velocities/weights/Adam\t[768, 88]\n",
      "velocity/onset_velocities/weights/Adam_1\t[768, 88]\n",
      "_________________________________________________________________\n",
      "Layer (type)                 Output Shape              Param #   \n",
      "=================================================================\n",
      "input_1 (InputLayer)         (None, 626, 229)          0         \n",
      "_________________________________________________________________\n",
      "reshape_1 (Reshape)          (None, 626, 229, 1)       0         \n",
      "_________________________________________________________________\n",
      "conv2d_1 (Conv2D)            (None, 626, 229, 48)      432       \n",
      "_________________________________________________________________\n",
      "batch_normalization_1 (Batch (None, 626, 229, 48)      144       \n",
      "_________________________________________________________________\n",
      "activation_1 (Activation)    (None, 626, 229, 48)      0         \n",
      "_________________________________________________________________\n",
      "conv2d_2 (Conv2D)            (None, 626, 229, 48)      20736     \n",
      "_________________________________________________________________\n",
      "batch_normalization_2 (Batch (None, 626, 229, 48)      144       \n",
      "_________________________________________________________________\n",
      "activation_2 (Activation)    (None, 626, 229, 48)      0         \n",
      "_________________________________________________________________\n",
      "max_pooling2d_2 (MaxPooling2 (None, 626, 114, 48)      0         \n",
      "_________________________________________________________________\n",
      "conv2d_3 (Conv2D)            (None, 626, 114, 96)      41472     \n",
      "_________________________________________________________________\n",
      "batch_normalization_3 (Batch (None, 626, 114, 96)      288       \n",
      "_________________________________________________________________\n",
      "activation_3 (Activation)    (None, 626, 114, 96)      0         \n",
      "_________________________________________________________________\n",
      "max_pooling2d_1 (MaxPooling2 (None, 626, 57, 96)       0         \n",
      "_________________________________________________________________\n",
      "reshape_2 (Reshape)          (None, 626, 5472)         0         \n",
      "_________________________________________________________________\n",
      "dense_2 (Dense)              (None, 626, 768)          4203264   \n",
      "_________________________________________________________________\n",
      "bidirectional_1 (Bidirection (None, 626, 512)          2099200   \n",
      "_________________________________________________________________\n",
      "dense_1 (Dense)              (None, 626, 88)           45144     \n",
      "=================================================================\n",
      "Total params: 6,410,824\n",
      "Trainable params: 6,410,440\n",
      "Non-trainable params: 384\n",
      "_________________________________________________________________\n"
     ]
    }
   ],
   "source": [
    "cptDir, lstmWidth, inputs = 'Magenta checkpoint', 256, Input(shape=(melsVal.shape[1], melsVal.shape[2]))\n",
    "\n",
    "ConvBnRelu = lambda n: lambda x: Activation('relu')(BatchNormalization(scale=False)(\n",
    "    Conv2D(n, 3, padding='same', use_bias=False)(x)))\n",
    "outputs = MaxPool2D((1, 2))(ConvBnRelu(96)(MaxPool2D((1, 2))(ConvBnRelu(48)(\n",
    "    ConvBnRelu(48)(Reshape((melsVal.shape[1], melsVal.shape[2], 1))(inputs))))))\n",
    "\n",
    "model = Model(inputs, Dense(88, activation='sigmoid')(Bidirectional(LSTM(lstmWidth,\n",
    "    # https://github.com/tensorflow/tensorflow/blob/master/tensorflow/python/ops/rnn_cell_impl.py#L782\n",
    "    # Sigmoid activation for hidden units, also unroll must be True, otherwise weights will be different\n",
    "    # Cannot use stateful mode because backward LSTM would require reversed batch:\n",
    "    recurrent_activation='sigmoid', implementation=2, return_sequences=True, unroll=True))(Dense(768, activation='relu')(\n",
    "    Reshape((K.int_shape(outputs)[1], K.int_shape(outputs)[2] * K.int_shape(outputs)[3]))(outputs)))))\n",
    "\n",
    "for i in [2, 3, 5, 6, 9, 10, 14, 15, 16]: print(*model.layers[i].weights, sep='\\n', end='\\n\\n')\n",
    "with Session() as sess: print(*['{}\\t{}'.format(name, shape) for name, shape in list_variables(cptDir)], sep='\\n')\n",
    "model.summary()"
   ]
  },
  {
   "cell_type": "code",
   "execution_count": 4,
   "metadata": {
    "scrolled": false
   },
   "outputs": [
    {
     "name": "stdout",
     "output_type": "stream",
     "text": [
      "3088/3088 [==============================] - 88s 28ms/step\n",
      "3088/3088 [==============================] - 100s 32ms/step\n",
      "3088/3088 [==============================] - 71s 23ms/step\n",
      "3088/3088 [==============================] - 86s 28ms/step\n",
      "3088/3088 [==============================] - 53s 17ms/step\n",
      "3088/3088 [==============================] - 52s 17ms/step\n",
      "3088/3088 [==============================] - 83s 27ms/step\n",
      "3088/3088 [==============================] - 96s 31ms/step\n"
     ]
    }
   ],
   "source": [
    "def MagentaToKeras(modelName, xVal, yVal):\n",
    "    numLayers, varName, varProbName = 16, modelName.lower(), None\n",
    "    \n",
    "    for i, j in zip(range(3), [2, 5, 9]):\n",
    "        model.layers[j    ].set_weights([load_variable(cptDir, '{}/conv{}/weights'     .format(varName, i))])\n",
    "        model.layers[j + 1].set_weights([load_variable(cptDir, '{}/conv{}/BatchNorm/{}'.format(varName, i, name))\n",
    "                                         for name in ['beta', 'moving_mean', 'moving_variance']])\n",
    "    model.layers[14].set_weights([load_variable(cptDir, '{}/fc_end/{}'.format(varName, name))\n",
    "                                  for name in ['weights', 'biases']])\n",
    "    \n",
    "    if modelName in ['Onsets', 'Offsets']: varProbName = varName[:-1] + '_probs'\n",
    "    elif modelName == 'Velocity': numLayers, varProbName = 15, 'onset_velocities'\n",
    "    else:\n",
    "        assert modelName == 'Frame', 'Illegal model name'\n",
    "        numLayers, varProbName = 20, 'frame_probs'\n",
    "        model.layers[16].set_weights([load_variable(cptDir, 'frame/activation_probs/{}'.format(name))\n",
    "                                      for name in ['weights', 'biases']])\n",
    "\n",
    "    if modelName != 'Velocity':\n",
    "        fW, fB, bW, bB = [load_variable(cptDir, '{}/cudnn_lstm/stack_bidirectional_rnn/cell_0/bidirectional_rnn/'\n",
    "            '{}/cudnn_compatible_lstm_cell/{}'.format(varName, fb, kb)) for fb in ['fw', 'bw'] for kb in ['kernel', 'bias']]\n",
    "        # https://stackoverflow.com/questions/48212694/in-what-order-are-weights-saved-in-a-lstm-kernel-in-tensorflow\n",
    "        # Tensorflow order is I-C-F-O:\n",
    "        (fWi, fWc, fWf, fWo), (bWi, bWc, bWf, bWo) = map(lambda arr: np.split(arr, 4, 1), [fW, bW])\n",
    "        (fBi, fBc, fBf, fBo), (bBi, bBc, bBf, bBo) = map(lambda arr: np.split(arr, 4),    [fB, bB])\n",
    "        # https://stackoverflow.com/questions/47661105/order-of-lstm-weights-in-keras\n",
    "        # Keras order is I-F-C-O:\n",
    "        fWk, bWk, fBk, bBk = map(np.hstack, [[fWi, fWf, fWc, fWo], [bWi, bWf, bWc, bWo],\n",
    "                                             [fBi, fBf, fBc, fBo], [bBi, bBf, bBc, bBo]])\n",
    "        # https://stats.stackexchange.com/questions/280995/accessing-lstm-weights-tensors-in-tensorflow\n",
    "        # Input units first, then hidden (recurrent) nodes:\n",
    "        model.layers[numLayers - 1].set_weights([fWk[:-lstmWidth], fWk[-lstmWidth:], fBk,\n",
    "                                                 bWk[:-lstmWidth], bWk[-lstmWidth:], bBk])\n",
    "\n",
    "    model.layers[numLayers].set_weights([load_variable(cptDir, '{}/{}/{}'.format(\n",
    "        varName, varProbName, name)) for name in ['weights', 'biases']])\n",
    "    model.save('Magenta {} {:.2f}.hdf5'.format(modelName, model.evaluate(\n",
    "        xVal, yVal, 32, 1)[1] * 100), include_optimizer=False)\n",
    "\n",
    "def Dixon(yTrue, yPred):\n",
    "    # true (correct) positives, predicted positives = tp + fp, real (ground-truth) positives = tp + fn\n",
    "    tp, pp, rp = K.sum(yTrue * K.round(yPred)), K.sum(K.round(yPred)), K.sum(yTrue)\n",
    "    return 1 if pp == 0 and rp == 0 else tp / (pp + rp - tp + K.epsilon())\n",
    "\n",
    "model.compile('Adam', 'categorical_crossentropy', [Dixon])\n",
    "MagentaToKeras('Onsets', melsVal, onVal)\n",
    "onProb = model.predict(melsVal, 16, 1)\n",
    "\n",
    "MagentaToKeras('Offsets', melsVal, offVal)\n",
    "offProb = model.predict(melsVal, 16, 1)\n",
    "\n",
    "def VolAcc(yTrue, yPred):\n",
    "    onsets = K.cast(yTrue > K.epsilon(), float)\n",
    "    yPredOnsets, numNotes = yPred * onsets, K.sum(onsets)\n",
    "    \n",
    "    # Linear regression:\n",
    "    sumX, sumY = map(K.sum, (yPredOnsets, yTrue))\n",
    "    m = (numNotes * K.sum(yPredOnsets * yTrue) - sumX * sumY) / (numNotes * K.sum(yPredOnsets ** 2) - sumX ** 2)\n",
    "    yPredOnsets = (m * yPredOnsets + (sumY - m * sumX) / numNotes) * onsets\n",
    "    \n",
    "    return (numNotes - K.sum(K.cast(K.abs(yPredOnsets - yTrue) > .1, float))) / numNotes\n",
    "\n",
    "model = Model(model.input, Dense(volsVal.shape[2], activation='sigmoid')(model.layers[-3].output))\n",
    "model.compile('Adam', 'categorical_crossentropy', [VolAcc])\n",
    "MagentaToKeras('Velocity', melsVal, volsVal)\n",
    "volsProb = model.predict(melsVal, 32, 1)\n",
    "\n",
    "onsetsIn, offsetsIn = Input(shape=(onVal.shape[1], onVal.shape[2])), Input(shape=(offVal.shape[1], offVal.shape[2]))\n",
    "model = Model([onsetsIn, model.input, offsetsIn], Dense(actVal.shape[2], activation='sigmoid')(\n",
    "    Bidirectional(LSTM(lstmWidth, recurrent_activation='sigmoid', implementation=2, return_sequences=True,\n",
    "                       unroll=True))(concatenate([onsetsIn, model.output, offsetsIn]))))\n",
    "model.compile('Adam', 'categorical_crossentropy', [Dixon])\n",
    "MagentaToKeras('Frame', [onProb, melsVal, offProb], actVal)\n",
    "actProb = model.predict([onProb, melsVal, offProb], 16, 1)"
   ]
  },
  {
   "cell_type": "markdown",
   "metadata": {},
   "source": [
    "# Testing."
   ]
  },
  {
   "cell_type": "code",
   "execution_count": 4,
   "metadata": {},
   "outputs": [
    {
     "name": "stdout",
     "output_type": "stream",
     "text": [
      "WARNING:tensorflow:From C:\\Users\\Evgeniy\\Anaconda3\\lib\\site-packages\\tensorflow\\python\\framework\\op_def_library.py:263: colocate_with (from tensorflow.python.framework.ops) is deprecated and will be removed in a future version.\n",
      "Instructions for updating:\n",
      "Colocations handled automatically by placer.\n",
      "Maestro/1-5 seconds/test\\2004\n",
      "\t1 of 9\n",
      "12/12 [==============================] - 17s 1s/step\n",
      "12/12 [==============================] - 15s 1s/step\n",
      "12/12 [==============================] - 3s 280ms/step\n",
      "12/12 [==============================] - 15s 1s/step\n"
     ]
    },
    {
     "name": "stderr",
     "output_type": "stream",
     "text": [
      "C:\\Users\\Evgeniy\\Anaconda3\\lib\\site-packages\\mir_eval\\transcription_velocity.py:185: FutureWarning: `rcond` parameter will change to the default of machine precision times ``max(M, N)`` where M and N are the input matrix dimensions.\n",
      "To use the future default and silence this warning we advise to pass `rcond=None`, to keep using the old, explicitly pass `rcond=-1`.\n",
      "  ref_matched_velocities)[0]\n"
     ]
    },
    {
     "name": "stdout",
     "output_type": "stream",
     "text": [
      "\t2 of 9\n",
      "17/17 [==============================] - 2s 109ms/step\n",
      "17/17 [==============================] - 1s 38ms/step\n",
      "17/17 [==============================] - 0s 18ms/step\n",
      "17/17 [==============================] - 1s 34ms/step\n"
     ]
    },
    {
     "name": "stderr",
     "output_type": "stream",
     "text": [
      "C:\\Users\\Evgeniy\\Anaconda3\\lib\\site-packages\\mir_eval\\transcription_velocity.py:185: FutureWarning: `rcond` parameter will change to the default of machine precision times ``max(M, N)`` where M and N are the input matrix dimensions.\n",
      "To use the future default and silence this warning we advise to pass `rcond=None`, to keep using the old, explicitly pass `rcond=-1`.\n",
      "  ref_matched_velocities)[0]\n"
     ]
    },
    {
     "name": "stdout",
     "output_type": "stream",
     "text": [
      "\t3 of 9\n",
      "11/11 [==============================] - 1s 98ms/step\n",
      "11/11 [==============================] - 0s 33ms/step\n",
      "11/11 [==============================] - 0s 17ms/step\n",
      "11/11 [==============================] - 0s 31ms/step\n"
     ]
    },
    {
     "name": "stderr",
     "output_type": "stream",
     "text": [
      "C:\\Users\\Evgeniy\\Anaconda3\\lib\\site-packages\\mir_eval\\transcription_velocity.py:185: FutureWarning: `rcond` parameter will change to the default of machine precision times ``max(M, N)`` where M and N are the input matrix dimensions.\n",
      "To use the future default and silence this warning we advise to pass `rcond=None`, to keep using the old, explicitly pass `rcond=-1`.\n",
      "  ref_matched_velocities)[0]\n"
     ]
    },
    {
     "name": "stdout",
     "output_type": "stream",
     "text": [
      "\t4 of 9\n",
      "16/16 [==============================] - 0s 28ms/step\n",
      "16/16 [==============================] - 0s 28ms/step\n",
      "16/16 [==============================] - 0s 17ms/step\n",
      "16/16 [==============================] - 0s 27ms/step\n"
     ]
    },
    {
     "name": "stderr",
     "output_type": "stream",
     "text": [
      "C:\\Users\\Evgeniy\\Anaconda3\\lib\\site-packages\\mir_eval\\transcription_velocity.py:185: FutureWarning: `rcond` parameter will change to the default of machine precision times ``max(M, N)`` where M and N are the input matrix dimensions.\n",
      "To use the future default and silence this warning we advise to pass `rcond=None`, to keep using the old, explicitly pass `rcond=-1`.\n",
      "  ref_matched_velocities)[0]\n"
     ]
    },
    {
     "name": "stdout",
     "output_type": "stream",
     "text": [
      "\t5 of 9\n",
      "7/7 [==============================] - 1s 128ms/step\n",
      "7/7 [==============================] - 0s 42ms/step\n",
      "7/7 [==============================] - 0s 17ms/step\n",
      "7/7 [==============================] - 0s 39ms/step\n"
     ]
    },
    {
     "name": "stderr",
     "output_type": "stream",
     "text": [
      "C:\\Users\\Evgeniy\\Anaconda3\\lib\\site-packages\\mir_eval\\transcription_velocity.py:185: FutureWarning: `rcond` parameter will change to the default of machine precision times ``max(M, N)`` where M and N are the input matrix dimensions.\n",
      "To use the future default and silence this warning we advise to pass `rcond=None`, to keep using the old, explicitly pass `rcond=-1`.\n",
      "  ref_matched_velocities)[0]\n"
     ]
    },
    {
     "name": "stdout",
     "output_type": "stream",
     "text": [
      "\t6 of 9\n",
      "26/26 [==============================] - 2s 60ms/step\n",
      "26/26 [==============================] - 1s 31ms/step\n",
      "26/26 [==============================] - 0s 17ms/step\n",
      "26/26 [==============================] - 1s 29ms/step\n"
     ]
    },
    {
     "name": "stderr",
     "output_type": "stream",
     "text": [
      "C:\\Users\\Evgeniy\\Anaconda3\\lib\\site-packages\\mir_eval\\transcription_velocity.py:185: FutureWarning: `rcond` parameter will change to the default of machine precision times ``max(M, N)`` where M and N are the input matrix dimensions.\n",
      "To use the future default and silence this warning we advise to pass `rcond=None`, to keep using the old, explicitly pass `rcond=-1`.\n",
      "  ref_matched_velocities)[0]\n"
     ]
    },
    {
     "name": "stdout",
     "output_type": "stream",
     "text": [
      "\t7 of 9\n",
      "15/15 [==============================] - 1s 88ms/step\n",
      "15/15 [==============================] - 0s 29ms/step\n",
      "15/15 [==============================] - 0s 17ms/step\n",
      "15/15 [==============================] - 0s 28ms/step\n"
     ]
    },
    {
     "name": "stderr",
     "output_type": "stream",
     "text": [
      "C:\\Users\\Evgeniy\\Anaconda3\\lib\\site-packages\\mir_eval\\transcription_velocity.py:185: FutureWarning: `rcond` parameter will change to the default of machine precision times ``max(M, N)`` where M and N are the input matrix dimensions.\n",
      "To use the future default and silence this warning we advise to pass `rcond=None`, to keep using the old, explicitly pass `rcond=-1`.\n",
      "  ref_matched_velocities)[0]\n"
     ]
    },
    {
     "name": "stdout",
     "output_type": "stream",
     "text": [
      "\t8 of 9\n",
      "66/66 [==============================] - 2s 36ms/step\n",
      "66/66 [==============================] - 2s 31ms/step\n",
      "66/66 [==============================] - 1s 17ms/step\n",
      "66/66 [==============================] - 2s 29ms/step\n"
     ]
    },
    {
     "name": "stderr",
     "output_type": "stream",
     "text": [
      "C:\\Users\\Evgeniy\\Anaconda3\\lib\\site-packages\\mir_eval\\transcription_velocity.py:185: FutureWarning: `rcond` parameter will change to the default of machine precision times ``max(M, N)`` where M and N are the input matrix dimensions.\n",
      "To use the future default and silence this warning we advise to pass `rcond=None`, to keep using the old, explicitly pass `rcond=-1`.\n",
      "  ref_matched_velocities)[0]\n"
     ]
    },
    {
     "name": "stdout",
     "output_type": "stream",
     "text": [
      "\t9 of 9\n",
      "56/56 [==============================] - 2s 43ms/step\n",
      "56/56 [==============================] - 2s 30ms/step\n",
      "56/56 [==============================] - 1s 17ms/step\n",
      "56/56 [==============================] - 2s 28ms/step\n"
     ]
    },
    {
     "name": "stderr",
     "output_type": "stream",
     "text": [
      "C:\\Users\\Evgeniy\\Anaconda3\\lib\\site-packages\\mir_eval\\transcription_velocity.py:185: FutureWarning: `rcond` parameter will change to the default of machine precision times ``max(M, N)`` where M and N are the input matrix dimensions.\n",
      "To use the future default and silence this warning we advise to pass `rcond=None`, to keep using the old, explicitly pass `rcond=-1`.\n",
      "  ref_matched_velocities)[0]\n"
     ]
    },
    {
     "name": "stdout",
     "output_type": "stream",
     "text": [
      "\n",
      "Onsets: \n",
      "Precision (specificity) = 81.15%\n",
      "Recall    (sensitivity) = 90.09%\n",
      "F1-score                = 84.88%\n",
      "\n",
      "Frames: \n",
      "Precision (specificity) = 65.05%\n",
      "Recall    (sensitivity) = 71.51%\n",
      "F1-score                = 67.78%\n",
      "\n",
      "Volumes:\n",
      "Precision (specificity) = 62.40%\n",
      "Recall    (sensitivity) = 68.59%\n",
      "F1-score                = 65.01%\n",
      "\n",
      "Actual and predicted average number of onsets: 1.71 1.67\n",
      "Predicts less notes than actual (specific classifier)\n",
      "\n",
      "Maestro/1-5 seconds/test\\2006\n",
      "\t1 of 11\n",
      "37/37 [==============================] - 2s 51ms/step\n",
      "37/37 [==============================] - 1s 32ms/step\n",
      "37/37 [==============================] - 1s 17ms/step\n",
      "37/37 [==============================] - 1s 30ms/step\n"
     ]
    },
    {
     "name": "stderr",
     "output_type": "stream",
     "text": [
      "C:\\Users\\Evgeniy\\Anaconda3\\lib\\site-packages\\mir_eval\\transcription_velocity.py:185: FutureWarning: `rcond` parameter will change to the default of machine precision times ``max(M, N)`` where M and N are the input matrix dimensions.\n",
      "To use the future default and silence this warning we advise to pass `rcond=None`, to keep using the old, explicitly pass `rcond=-1`.\n",
      "  ref_matched_velocities)[0]\n"
     ]
    },
    {
     "name": "stdout",
     "output_type": "stream",
     "text": [
      "\t2 of 11\n",
      "35/35 [==============================] - 2s 44ms/step\n",
      "35/35 [==============================] - 1s 32ms/step\n",
      "35/35 [==============================] - 1s 17ms/step\n",
      "35/35 [==============================] - 1s 30ms/step\n"
     ]
    },
    {
     "name": "stderr",
     "output_type": "stream",
     "text": [
      "C:\\Users\\Evgeniy\\Anaconda3\\lib\\site-packages\\mir_eval\\transcription_velocity.py:185: FutureWarning: `rcond` parameter will change to the default of machine precision times ``max(M, N)`` where M and N are the input matrix dimensions.\n",
      "To use the future default and silence this warning we advise to pass `rcond=None`, to keep using the old, explicitly pass `rcond=-1`.\n",
      "  ref_matched_velocities)[0]\n"
     ]
    },
    {
     "name": "stdout",
     "output_type": "stream",
     "text": [
      "\t3 of 11\n",
      "64/64 [==============================] - 2s 29ms/step\n",
      "64/64 [==============================] - 2s 29ms/step\n",
      "64/64 [==============================] - 1s 17ms/step\n",
      "64/64 [==============================] - 2s 27ms/step\n"
     ]
    },
    {
     "name": "stderr",
     "output_type": "stream",
     "text": [
      "C:\\Users\\Evgeniy\\Anaconda3\\lib\\site-packages\\mir_eval\\transcription_velocity.py:185: FutureWarning: `rcond` parameter will change to the default of machine precision times ``max(M, N)`` where M and N are the input matrix dimensions.\n",
      "To use the future default and silence this warning we advise to pass `rcond=None`, to keep using the old, explicitly pass `rcond=-1`.\n",
      "  ref_matched_velocities)[0]\n"
     ]
    },
    {
     "name": "stdout",
     "output_type": "stream",
     "text": [
      "\t4 of 11\n",
      "31/31 [==============================] - 1s 38ms/step\n",
      "31/31 [==============================] - 1s 29ms/step\n",
      "31/31 [==============================] - 1s 17ms/step\n",
      "31/31 [==============================] - 1s 27ms/step\n"
     ]
    },
    {
     "name": "stderr",
     "output_type": "stream",
     "text": [
      "C:\\Users\\Evgeniy\\Anaconda3\\lib\\site-packages\\mir_eval\\transcription_velocity.py:185: FutureWarning: `rcond` parameter will change to the default of machine precision times ``max(M, N)`` where M and N are the input matrix dimensions.\n",
      "To use the future default and silence this warning we advise to pass `rcond=None`, to keep using the old, explicitly pass `rcond=-1`.\n",
      "  ref_matched_velocities)[0]\n"
     ]
    },
    {
     "name": "stdout",
     "output_type": "stream",
     "text": [
      "\t5 of 11\n",
      "7/7 [==============================] - 0s 41ms/step\n",
      "7/7 [==============================] - 0s 42ms/step\n",
      "7/7 [==============================] - 0s 17ms/step\n",
      "7/7 [==============================] - 0s 39ms/step\n",
      "\t6 of 11\n"
     ]
    },
    {
     "name": "stderr",
     "output_type": "stream",
     "text": [
      "C:\\Users\\Evgeniy\\Anaconda3\\lib\\site-packages\\mir_eval\\transcription_velocity.py:185: FutureWarning: `rcond` parameter will change to the default of machine precision times ``max(M, N)`` where M and N are the input matrix dimensions.\n",
      "To use the future default and silence this warning we advise to pass `rcond=None`, to keep using the old, explicitly pass `rcond=-1`.\n",
      "  ref_matched_velocities)[0]\n"
     ]
    },
    {
     "name": "stdout",
     "output_type": "stream",
     "text": [
      "19/19 [==============================] - 1s 35ms/step\n",
      "19/19 [==============================] - 1s 35ms/step\n",
      "19/19 [==============================] - 0s 17ms/step\n",
      "19/19 [==============================] - 1s 32ms/step\n"
     ]
    },
    {
     "name": "stderr",
     "output_type": "stream",
     "text": [
      "C:\\Users\\Evgeniy\\Anaconda3\\lib\\site-packages\\mir_eval\\transcription_velocity.py:185: FutureWarning: `rcond` parameter will change to the default of machine precision times ``max(M, N)`` where M and N are the input matrix dimensions.\n",
      "To use the future default and silence this warning we advise to pass `rcond=None`, to keep using the old, explicitly pass `rcond=-1`.\n",
      "  ref_matched_velocities)[0]\n"
     ]
    },
    {
     "name": "stdout",
     "output_type": "stream",
     "text": [
      "\t7 of 11\n",
      "22/22 [==============================] - 1s 59ms/step\n",
      "22/22 [==============================] - 1s 33ms/step\n",
      "22/22 [==============================] - 0s 17ms/step\n",
      "22/22 [==============================] - 1s 31ms/step\n"
     ]
    },
    {
     "name": "stderr",
     "output_type": "stream",
     "text": [
      "C:\\Users\\Evgeniy\\Anaconda3\\lib\\site-packages\\mir_eval\\transcription_velocity.py:185: FutureWarning: `rcond` parameter will change to the default of machine precision times ``max(M, N)`` where M and N are the input matrix dimensions.\n",
      "To use the future default and silence this warning we advise to pass `rcond=None`, to keep using the old, explicitly pass `rcond=-1`.\n",
      "  ref_matched_velocities)[0]\n"
     ]
    },
    {
     "name": "stdout",
     "output_type": "stream",
     "text": [
      "\t8 of 11\n",
      "20/20 [==============================] - 1s 56ms/step\n",
      "20/20 [==============================] - 1s 34ms/step\n",
      "20/20 [==============================] - 0s 17ms/step\n",
      "20/20 [==============================] - 1s 32ms/step\n"
     ]
    },
    {
     "name": "stderr",
     "output_type": "stream",
     "text": [
      "C:\\Users\\Evgeniy\\Anaconda3\\lib\\site-packages\\mir_eval\\transcription_velocity.py:185: FutureWarning: `rcond` parameter will change to the default of machine precision times ``max(M, N)`` where M and N are the input matrix dimensions.\n",
      "To use the future default and silence this warning we advise to pass `rcond=None`, to keep using the old, explicitly pass `rcond=-1`.\n",
      "  ref_matched_velocities)[0]\n"
     ]
    },
    {
     "name": "stdout",
     "output_type": "stream",
     "text": [
      "\t9 of 11\n",
      "26/26 [==============================] - 1s 31ms/step\n",
      "26/26 [==============================] - 1s 31ms/step\n",
      "26/26 [==============================] - 0s 17ms/step\n",
      "26/26 [==============================] - 1s 29ms/step\n"
     ]
    },
    {
     "name": "stderr",
     "output_type": "stream",
     "text": [
      "C:\\Users\\Evgeniy\\Anaconda3\\lib\\site-packages\\mir_eval\\transcription_velocity.py:185: FutureWarning: `rcond` parameter will change to the default of machine precision times ``max(M, N)`` where M and N are the input matrix dimensions.\n",
      "To use the future default and silence this warning we advise to pass `rcond=None`, to keep using the old, explicitly pass `rcond=-1`.\n",
      "  ref_matched_velocities)[0]\n"
     ]
    },
    {
     "name": "stdout",
     "output_type": "stream",
     "text": [
      "\t10 of 11\n",
      "22/22 [==============================] - 1s 33ms/step\n",
      "22/22 [==============================] - 1s 33ms/step\n",
      "22/22 [==============================] - 0s 17ms/step\n",
      "22/22 [==============================] - 1s 31ms/step\n"
     ]
    },
    {
     "name": "stderr",
     "output_type": "stream",
     "text": [
      "C:\\Users\\Evgeniy\\Anaconda3\\lib\\site-packages\\mir_eval\\transcription_velocity.py:185: FutureWarning: `rcond` parameter will change to the default of machine precision times ``max(M, N)`` where M and N are the input matrix dimensions.\n",
      "To use the future default and silence this warning we advise to pass `rcond=None`, to keep using the old, explicitly pass `rcond=-1`.\n",
      "  ref_matched_velocities)[0]\n"
     ]
    },
    {
     "name": "stdout",
     "output_type": "stream",
     "text": [
      "\t11 of 11\n",
      "18/18 [==============================] - 1s 36ms/step\n",
      "18/18 [==============================] - 1s 36ms/step\n",
      "18/18 [==============================] - 0s 17ms/step\n",
      "18/18 [==============================] - 1s 33ms/step\n"
     ]
    },
    {
     "name": "stderr",
     "output_type": "stream",
     "text": [
      "C:\\Users\\Evgeniy\\Anaconda3\\lib\\site-packages\\mir_eval\\transcription_velocity.py:185: FutureWarning: `rcond` parameter will change to the default of machine precision times ``max(M, N)`` where M and N are the input matrix dimensions.\n",
      "To use the future default and silence this warning we advise to pass `rcond=None`, to keep using the old, explicitly pass `rcond=-1`.\n",
      "  ref_matched_velocities)[0]\n"
     ]
    },
    {
     "name": "stdout",
     "output_type": "stream",
     "text": [
      "\n",
      "Onsets: \n",
      "Precision (specificity) = 80.92%\n",
      "Recall    (sensitivity) = 89.34%\n",
      "F1-score                = 84.76%\n",
      "\n",
      "Frames: \n",
      "Precision (specificity) = 63.30%\n",
      "Recall    (sensitivity) = 69.87%\n",
      "F1-score                = 66.30%\n",
      "\n",
      "Volumes:\n",
      "Precision (specificity) = 60.67%\n",
      "Recall    (sensitivity) = 66.95%\n",
      "F1-score                = 63.53%\n",
      "\n",
      "Actual and predicted average number of onsets: 1.75 1.70\n",
      "Predicts less notes than actual (specific classifier)\n",
      "\n",
      "Maestro/1-5 seconds/test\\2008\n",
      "\t1 of 22\n",
      "4/4 [==============================] - 0s 113ms/step\n",
      "4/4 [==============================] - 0s 58ms/step\n",
      "4/4 [==============================] - 0s 18ms/step\n",
      "4/4 [==============================] - 0s 51ms/step\n"
     ]
    },
    {
     "name": "stderr",
     "output_type": "stream",
     "text": [
      "C:\\Users\\Evgeniy\\Anaconda3\\lib\\site-packages\\mir_eval\\transcription_velocity.py:185: FutureWarning: `rcond` parameter will change to the default of machine precision times ``max(M, N)`` where M and N are the input matrix dimensions.\n",
      "To use the future default and silence this warning we advise to pass `rcond=None`, to keep using the old, explicitly pass `rcond=-1`.\n",
      "  ref_matched_velocities)[0]\n"
     ]
    },
    {
     "name": "stdout",
     "output_type": "stream",
     "text": [
      "\t2 of 22\n",
      "12/12 [==============================] - 0s 31ms/step\n",
      "12/12 [==============================] - 0s 32ms/step\n",
      "12/12 [==============================] - 0s 17ms/step\n",
      "12/12 [==============================] - 0s 29ms/step\n"
     ]
    },
    {
     "name": "stderr",
     "output_type": "stream",
     "text": [
      "C:\\Users\\Evgeniy\\Anaconda3\\lib\\site-packages\\mir_eval\\transcription_velocity.py:185: FutureWarning: `rcond` parameter will change to the default of machine precision times ``max(M, N)`` where M and N are the input matrix dimensions.\n",
      "To use the future default and silence this warning we advise to pass `rcond=None`, to keep using the old, explicitly pass `rcond=-1`.\n",
      "  ref_matched_velocities)[0]\n"
     ]
    },
    {
     "name": "stdout",
     "output_type": "stream",
     "text": [
      "\t3 of 22\n",
      "18/18 [==============================] - 1s 36ms/step\n",
      "18/18 [==============================] - 1s 36ms/step\n",
      "18/18 [==============================] - 0s 17ms/step\n",
      "18/18 [==============================] - 1s 33ms/step\n"
     ]
    },
    {
     "name": "stderr",
     "output_type": "stream",
     "text": [
      "C:\\Users\\Evgeniy\\Anaconda3\\lib\\site-packages\\mir_eval\\transcription_velocity.py:185: FutureWarning: `rcond` parameter will change to the default of machine precision times ``max(M, N)`` where M and N are the input matrix dimensions.\n",
      "To use the future default and silence this warning we advise to pass `rcond=None`, to keep using the old, explicitly pass `rcond=-1`.\n",
      "  ref_matched_velocities)[0]\n"
     ]
    },
    {
     "name": "stdout",
     "output_type": "stream",
     "text": [
      "\t4 of 22\n",
      "22/22 [==============================] - 1s 33ms/step\n",
      "22/22 [==============================] - 1s 33ms/step\n",
      "22/22 [==============================] - 0s 17ms/step\n",
      "22/22 [==============================] - 1s 31ms/step\n"
     ]
    },
    {
     "name": "stderr",
     "output_type": "stream",
     "text": [
      "C:\\Users\\Evgeniy\\Anaconda3\\lib\\site-packages\\mir_eval\\transcription_velocity.py:185: FutureWarning: `rcond` parameter will change to the default of machine precision times ``max(M, N)`` where M and N are the input matrix dimensions.\n",
      "To use the future default and silence this warning we advise to pass `rcond=None`, to keep using the old, explicitly pass `rcond=-1`.\n",
      "  ref_matched_velocities)[0]\n"
     ]
    },
    {
     "name": "stdout",
     "output_type": "stream",
     "text": [
      "\t5 of 22\n",
      "27/27 [==============================] - 1s 30ms/step\n",
      "27/27 [==============================] - 1s 30ms/step\n",
      "27/27 [==============================] - 0s 17ms/step\n",
      "27/27 [==============================] - 1s 28ms/step\n"
     ]
    },
    {
     "name": "stderr",
     "output_type": "stream",
     "text": [
      "C:\\Users\\Evgeniy\\Anaconda3\\lib\\site-packages\\mir_eval\\transcription_velocity.py:185: FutureWarning: `rcond` parameter will change to the default of machine precision times ``max(M, N)`` where M and N are the input matrix dimensions.\n",
      "To use the future default and silence this warning we advise to pass `rcond=None`, to keep using the old, explicitly pass `rcond=-1`.\n",
      "  ref_matched_velocities)[0]\n"
     ]
    },
    {
     "name": "stdout",
     "output_type": "stream",
     "text": [
      "\t6 of 22\n",
      "21/21 [==============================] - 1s 33ms/step\n",
      "21/21 [==============================] - 1s 34ms/step\n",
      "21/21 [==============================] - 0s 17ms/step\n",
      "21/21 [==============================] - 1s 32ms/step\n"
     ]
    },
    {
     "name": "stderr",
     "output_type": "stream",
     "text": [
      "C:\\Users\\Evgeniy\\Anaconda3\\lib\\site-packages\\mir_eval\\transcription_velocity.py:185: FutureWarning: `rcond` parameter will change to the default of machine precision times ``max(M, N)`` where M and N are the input matrix dimensions.\n",
      "To use the future default and silence this warning we advise to pass `rcond=None`, to keep using the old, explicitly pass `rcond=-1`.\n",
      "  ref_matched_velocities)[0]\n"
     ]
    },
    {
     "name": "stdout",
     "output_type": "stream",
     "text": [
      "\t7 of 22\n",
      "14/14 [==============================] - 1s 90ms/step\n",
      "14/14 [==============================] - 0s 30ms/step\n",
      "14/14 [==============================] - 0s 17ms/step\n",
      "14/14 [==============================] - 0s 28ms/step\n"
     ]
    },
    {
     "name": "stderr",
     "output_type": "stream",
     "text": [
      "C:\\Users\\Evgeniy\\Anaconda3\\lib\\site-packages\\mir_eval\\transcription_velocity.py:185: FutureWarning: `rcond` parameter will change to the default of machine precision times ``max(M, N)`` where M and N are the input matrix dimensions.\n",
      "To use the future default and silence this warning we advise to pass `rcond=None`, to keep using the old, explicitly pass `rcond=-1`.\n",
      "  ref_matched_velocities)[0]\n"
     ]
    },
    {
     "name": "stdout",
     "output_type": "stream",
     "text": [
      "\t8 of 22\n",
      "31/31 [==============================] - 1s 28ms/step\n",
      "31/31 [==============================] - 1s 29ms/step\n",
      "31/31 [==============================] - 1s 17ms/step\n",
      "31/31 [==============================] - 1s 27ms/step\n"
     ]
    },
    {
     "name": "stderr",
     "output_type": "stream",
     "text": [
      "C:\\Users\\Evgeniy\\Anaconda3\\lib\\site-packages\\mir_eval\\transcription_velocity.py:185: FutureWarning: `rcond` parameter will change to the default of machine precision times ``max(M, N)`` where M and N are the input matrix dimensions.\n",
      "To use the future default and silence this warning we advise to pass `rcond=None`, to keep using the old, explicitly pass `rcond=-1`.\n",
      "  ref_matched_velocities)[0]\n"
     ]
    },
    {
     "name": "stdout",
     "output_type": "stream",
     "text": [
      "\t9 of 22\n",
      "18/18 [==============================] - 1s 36ms/step\n",
      "18/18 [==============================] - 1s 36ms/step\n",
      "18/18 [==============================] - 0s 17ms/step\n",
      "18/18 [==============================] - 1s 33ms/step\n"
     ]
    },
    {
     "name": "stderr",
     "output_type": "stream",
     "text": [
      "C:\\Users\\Evgeniy\\Anaconda3\\lib\\site-packages\\mir_eval\\transcription_velocity.py:185: FutureWarning: `rcond` parameter will change to the default of machine precision times ``max(M, N)`` where M and N are the input matrix dimensions.\n",
      "To use the future default and silence this warning we advise to pass `rcond=None`, to keep using the old, explicitly pass `rcond=-1`.\n",
      "  ref_matched_velocities)[0]\n"
     ]
    },
    {
     "name": "stdout",
     "output_type": "stream",
     "text": [
      "\t10 of 22\n",
      "7/7 [==============================] - 0s 41ms/step\n",
      "7/7 [==============================] - 0s 42ms/step\n",
      "7/7 [==============================] - 0s 17ms/step\n",
      "7/7 [==============================] - 0s 39ms/step\n"
     ]
    },
    {
     "name": "stderr",
     "output_type": "stream",
     "text": [
      "C:\\Users\\Evgeniy\\Anaconda3\\lib\\site-packages\\mir_eval\\transcription_velocity.py:185: FutureWarning: `rcond` parameter will change to the default of machine precision times ``max(M, N)`` where M and N are the input matrix dimensions.\n",
      "To use the future default and silence this warning we advise to pass `rcond=None`, to keep using the old, explicitly pass `rcond=-1`.\n",
      "  ref_matched_velocities)[0]\n"
     ]
    },
    {
     "name": "stdout",
     "output_type": "stream",
     "text": [
      "\t11 of 22\n",
      "18/18 [==============================] - 1s 36ms/step\n",
      "18/18 [==============================] - 1s 36ms/step\n",
      "18/18 [==============================] - 0s 18ms/step\n",
      "18/18 [==============================] - 1s 34ms/step\n"
     ]
    },
    {
     "name": "stderr",
     "output_type": "stream",
     "text": [
      "C:\\Users\\Evgeniy\\Anaconda3\\lib\\site-packages\\mir_eval\\transcription_velocity.py:185: FutureWarning: `rcond` parameter will change to the default of machine precision times ``max(M, N)`` where M and N are the input matrix dimensions.\n",
      "To use the future default and silence this warning we advise to pass `rcond=None`, to keep using the old, explicitly pass `rcond=-1`.\n",
      "  ref_matched_velocities)[0]\n"
     ]
    },
    {
     "name": "stdout",
     "output_type": "stream",
     "text": [
      "\t12 of 22\n",
      "4/4 [==============================] - 0s 57ms/step\n",
      "4/4 [==============================] - 0s 59ms/step\n",
      "4/4 [==============================] - 0s 17ms/step\n",
      "4/4 [==============================] - 0s 52ms/step\n"
     ]
    },
    {
     "name": "stderr",
     "output_type": "stream",
     "text": [
      "C:\\Users\\Evgeniy\\Anaconda3\\lib\\site-packages\\mir_eval\\transcription_velocity.py:185: FutureWarning: `rcond` parameter will change to the default of machine precision times ``max(M, N)`` where M and N are the input matrix dimensions.\n",
      "To use the future default and silence this warning we advise to pass `rcond=None`, to keep using the old, explicitly pass `rcond=-1`.\n",
      "  ref_matched_velocities)[0]\n"
     ]
    },
    {
     "name": "stdout",
     "output_type": "stream",
     "text": [
      "\t13 of 22\n",
      "18/18 [==============================] - 1s 36ms/step\n",
      "18/18 [==============================] - 1s 36ms/step\n",
      "18/18 [==============================] - 0s 17ms/step\n",
      "18/18 [==============================] - 1s 34ms/step\n"
     ]
    },
    {
     "name": "stderr",
     "output_type": "stream",
     "text": [
      "C:\\Users\\Evgeniy\\Anaconda3\\lib\\site-packages\\mir_eval\\transcription_velocity.py:185: FutureWarning: `rcond` parameter will change to the default of machine precision times ``max(M, N)`` where M and N are the input matrix dimensions.\n",
      "To use the future default and silence this warning we advise to pass `rcond=None`, to keep using the old, explicitly pass `rcond=-1`.\n",
      "  ref_matched_velocities)[0]\n"
     ]
    },
    {
     "name": "stdout",
     "output_type": "stream",
     "text": [
      "\t14 of 22\n",
      "10/10 [==============================] - 0s 34ms/step\n",
      "10/10 [==============================] - 0s 34ms/step\n",
      "10/10 [==============================] - 0s 17ms/step\n",
      "10/10 [==============================] - 0s 31ms/step\n"
     ]
    },
    {
     "name": "stderr",
     "output_type": "stream",
     "text": [
      "C:\\Users\\Evgeniy\\Anaconda3\\lib\\site-packages\\mir_eval\\transcription_velocity.py:185: FutureWarning: `rcond` parameter will change to the default of machine precision times ``max(M, N)`` where M and N are the input matrix dimensions.\n",
      "To use the future default and silence this warning we advise to pass `rcond=None`, to keep using the old, explicitly pass `rcond=-1`.\n",
      "  ref_matched_velocities)[0]\n"
     ]
    },
    {
     "name": "stdout",
     "output_type": "stream",
     "text": [
      "\t15 of 22\n",
      "14/14 [==============================] - 0s 29ms/step\n",
      "14/14 [==============================] - 0s 30ms/step\n",
      "14/14 [==============================] - 0s 17ms/step\n",
      "14/14 [==============================] - 0s 28ms/step\n"
     ]
    },
    {
     "name": "stderr",
     "output_type": "stream",
     "text": [
      "C:\\Users\\Evgeniy\\Anaconda3\\lib\\site-packages\\mir_eval\\transcription_velocity.py:185: FutureWarning: `rcond` parameter will change to the default of machine precision times ``max(M, N)`` where M and N are the input matrix dimensions.\n",
      "To use the future default and silence this warning we advise to pass `rcond=None`, to keep using the old, explicitly pass `rcond=-1`.\n",
      "  ref_matched_velocities)[0]\n"
     ]
    },
    {
     "name": "stdout",
     "output_type": "stream",
     "text": [
      "\t16 of 22\n",
      "9/9 [==============================] - 1s 116ms/step\n",
      "9/9 [==============================] - 0s 37ms/step\n",
      "9/9 [==============================] - 0s 17ms/step\n",
      "9/9 [==============================] - 0s 34ms/step\n"
     ]
    },
    {
     "name": "stderr",
     "output_type": "stream",
     "text": [
      "C:\\Users\\Evgeniy\\Anaconda3\\lib\\site-packages\\mir_eval\\transcription_velocity.py:185: FutureWarning: `rcond` parameter will change to the default of machine precision times ``max(M, N)`` where M and N are the input matrix dimensions.\n",
      "To use the future default and silence this warning we advise to pass `rcond=None`, to keep using the old, explicitly pass `rcond=-1`.\n",
      "  ref_matched_velocities)[0]\n"
     ]
    },
    {
     "name": "stdout",
     "output_type": "stream",
     "text": [
      "\t17 of 22\n",
      "21/21 [==============================] - 1s 33ms/step\n",
      "21/21 [==============================] - 1s 34ms/step\n",
      "21/21 [==============================] - 0s 17ms/step\n",
      "21/21 [==============================] - 1s 32ms/step\n"
     ]
    },
    {
     "name": "stderr",
     "output_type": "stream",
     "text": [
      "C:\\Users\\Evgeniy\\Anaconda3\\lib\\site-packages\\mir_eval\\transcription_velocity.py:185: FutureWarning: `rcond` parameter will change to the default of machine precision times ``max(M, N)`` where M and N are the input matrix dimensions.\n",
      "To use the future default and silence this warning we advise to pass `rcond=None`, to keep using the old, explicitly pass `rcond=-1`.\n",
      "  ref_matched_velocities)[0]\n"
     ]
    },
    {
     "name": "stdout",
     "output_type": "stream",
     "text": [
      "\t18 of 22\n",
      "6/6 [==============================] - 0s 44ms/step\n",
      "6/6 [==============================] - 0s 46ms/step\n",
      "6/6 [==============================] - 0s 17ms/step\n",
      "6/6 [==============================] - 0s 42ms/step\n"
     ]
    },
    {
     "name": "stderr",
     "output_type": "stream",
     "text": [
      "C:\\Users\\Evgeniy\\Anaconda3\\lib\\site-packages\\mir_eval\\transcription_velocity.py:185: FutureWarning: `rcond` parameter will change to the default of machine precision times ``max(M, N)`` where M and N are the input matrix dimensions.\n",
      "To use the future default and silence this warning we advise to pass `rcond=None`, to keep using the old, explicitly pass `rcond=-1`.\n",
      "  ref_matched_velocities)[0]\n"
     ]
    },
    {
     "name": "stdout",
     "output_type": "stream",
     "text": [
      "\t19 of 22\n",
      "32/32 [==============================] - 1s 28ms/step\n",
      "32/32 [==============================] - 1s 29ms/step\n",
      "32/32 [==============================] - 1s 17ms/step\n",
      "32/32 [==============================] - 1s 27ms/step\n"
     ]
    },
    {
     "name": "stderr",
     "output_type": "stream",
     "text": [
      "C:\\Users\\Evgeniy\\Anaconda3\\lib\\site-packages\\mir_eval\\transcription_velocity.py:185: FutureWarning: `rcond` parameter will change to the default of machine precision times ``max(M, N)`` where M and N are the input matrix dimensions.\n",
      "To use the future default and silence this warning we advise to pass `rcond=None`, to keep using the old, explicitly pass `rcond=-1`.\n",
      "  ref_matched_velocities)[0]\n"
     ]
    },
    {
     "name": "stdout",
     "output_type": "stream",
     "text": [
      "\t20 of 22\n",
      "15/15 [==============================] - 0s 30ms/step\n",
      "15/15 [==============================] - 0s 29ms/step\n",
      "15/15 [==============================] - 0s 16ms/step\n",
      "15/15 [==============================] - 0s 28ms/step\n"
     ]
    },
    {
     "name": "stderr",
     "output_type": "stream",
     "text": [
      "C:\\Users\\Evgeniy\\Anaconda3\\lib\\site-packages\\mir_eval\\transcription_velocity.py:185: FutureWarning: `rcond` parameter will change to the default of machine precision times ``max(M, N)`` where M and N are the input matrix dimensions.\n",
      "To use the future default and silence this warning we advise to pass `rcond=None`, to keep using the old, explicitly pass `rcond=-1`.\n",
      "  ref_matched_velocities)[0]\n"
     ]
    },
    {
     "name": "stdout",
     "output_type": "stream",
     "text": [
      "\t21 of 22\n",
      "20/20 [==============================] - 1s 34ms/step\n",
      "20/20 [==============================] - 1s 34ms/step\n",
      "20/20 [==============================] - 0s 17ms/step\n",
      "20/20 [==============================] - 1s 32ms/step\n"
     ]
    },
    {
     "name": "stderr",
     "output_type": "stream",
     "text": [
      "C:\\Users\\Evgeniy\\Anaconda3\\lib\\site-packages\\mir_eval\\transcription_velocity.py:185: FutureWarning: `rcond` parameter will change to the default of machine precision times ``max(M, N)`` where M and N are the input matrix dimensions.\n",
      "To use the future default and silence this warning we advise to pass `rcond=None`, to keep using the old, explicitly pass `rcond=-1`.\n",
      "  ref_matched_velocities)[0]\n"
     ]
    },
    {
     "name": "stdout",
     "output_type": "stream",
     "text": [
      "\t22 of 22\n",
      "18/18 [==============================] - 1s 36ms/step\n",
      "18/18 [==============================] - 1s 36ms/step\n",
      "18/18 [==============================] - 0s 17ms/step\n",
      "18/18 [==============================] - 1s 33ms/step\n"
     ]
    },
    {
     "name": "stderr",
     "output_type": "stream",
     "text": [
      "C:\\Users\\Evgeniy\\Anaconda3\\lib\\site-packages\\mir_eval\\transcription_velocity.py:185: FutureWarning: `rcond` parameter will change to the default of machine precision times ``max(M, N)`` where M and N are the input matrix dimensions.\n",
      "To use the future default and silence this warning we advise to pass `rcond=None`, to keep using the old, explicitly pass `rcond=-1`.\n",
      "  ref_matched_velocities)[0]\n"
     ]
    },
    {
     "name": "stdout",
     "output_type": "stream",
     "text": [
      "\n",
      "Onsets: \n",
      "Precision (specificity) = 80.40%\n",
      "Recall    (sensitivity) = 88.71%\n",
      "F1-score                = 83.70%\n",
      "\n",
      "Frames: \n",
      "Precision (specificity) = 65.51%\n",
      "Recall    (sensitivity) = 71.74%\n",
      "F1-score                = 68.01%\n",
      "\n",
      "Volumes:\n",
      "Precision (specificity) = 62.97%\n",
      "Recall    (sensitivity) = 68.95%\n",
      "F1-score                = 65.37%\n",
      "\n",
      "Actual and predicted average number of onsets: 1.77 1.71\n",
      "Predicts less notes than actual (specific classifier)\n",
      "\n",
      "Maestro/1-5 seconds/test\\2009\n",
      "\t1 of 17\n",
      "5/5 [==============================] - 0s 96ms/step\n",
      "5/5 [==============================] - 0s 52ms/step\n",
      "5/5 [==============================] - 0s 17ms/step\n",
      "5/5 [==============================] - 0s 47ms/step\n"
     ]
    },
    {
     "name": "stderr",
     "output_type": "stream",
     "text": [
      "C:\\Users\\Evgeniy\\Anaconda3\\lib\\site-packages\\mir_eval\\transcription_velocity.py:185: FutureWarning: `rcond` parameter will change to the default of machine precision times ``max(M, N)`` where M and N are the input matrix dimensions.\n",
      "To use the future default and silence this warning we advise to pass `rcond=None`, to keep using the old, explicitly pass `rcond=-1`.\n",
      "  ref_matched_velocities)[0]\n"
     ]
    },
    {
     "name": "stdout",
     "output_type": "stream",
     "text": [
      "\t2 of 17\n",
      "18/18 [==============================] - 1s 37ms/step\n",
      "18/18 [==============================] - 1s 36ms/step\n",
      "18/18 [==============================] - 0s 18ms/step\n",
      "18/18 [==============================] - 1s 33ms/step\n"
     ]
    },
    {
     "name": "stderr",
     "output_type": "stream",
     "text": [
      "C:\\Users\\Evgeniy\\Anaconda3\\lib\\site-packages\\mir_eval\\transcription_velocity.py:185: FutureWarning: `rcond` parameter will change to the default of machine precision times ``max(M, N)`` where M and N are the input matrix dimensions.\n",
      "To use the future default and silence this warning we advise to pass `rcond=None`, to keep using the old, explicitly pass `rcond=-1`.\n",
      "  ref_matched_velocities)[0]\n"
     ]
    },
    {
     "name": "stdout",
     "output_type": "stream",
     "text": [
      "\t3 of 17\n",
      "22/22 [==============================] - 1s 33ms/step\n",
      "22/22 [==============================] - 1s 33ms/step\n",
      "22/22 [==============================] - 0s 17ms/step\n",
      "22/22 [==============================] - 1s 31ms/step\n"
     ]
    },
    {
     "name": "stderr",
     "output_type": "stream",
     "text": [
      "C:\\Users\\Evgeniy\\Anaconda3\\lib\\site-packages\\mir_eval\\transcription_velocity.py:185: FutureWarning: `rcond` parameter will change to the default of machine precision times ``max(M, N)`` where M and N are the input matrix dimensions.\n",
      "To use the future default and silence this warning we advise to pass `rcond=None`, to keep using the old, explicitly pass `rcond=-1`.\n",
      "  ref_matched_velocities)[0]\n"
     ]
    },
    {
     "name": "stdout",
     "output_type": "stream",
     "text": [
      "\t4 of 17\n",
      "21/21 [==============================] - 1s 34ms/step\n",
      "21/21 [==============================] - 1s 34ms/step\n",
      "21/21 [==============================] - 0s 17ms/step\n",
      "21/21 [==============================] - 1s 31ms/step\n"
     ]
    },
    {
     "name": "stderr",
     "output_type": "stream",
     "text": [
      "C:\\Users\\Evgeniy\\Anaconda3\\lib\\site-packages\\mir_eval\\transcription_velocity.py:185: FutureWarning: `rcond` parameter will change to the default of machine precision times ``max(M, N)`` where M and N are the input matrix dimensions.\n",
      "To use the future default and silence this warning we advise to pass `rcond=None`, to keep using the old, explicitly pass `rcond=-1`.\n",
      "  ref_matched_velocities)[0]\n"
     ]
    },
    {
     "name": "stdout",
     "output_type": "stream",
     "text": [
      "\t5 of 17\n",
      "40/40 [==============================] - 1s 30ms/step\n",
      "40/40 [==============================] - 1s 30ms/step\n",
      "40/40 [==============================] - 1s 17ms/step\n",
      "40/40 [==============================] - 1s 29ms/step\n"
     ]
    },
    {
     "name": "stderr",
     "output_type": "stream",
     "text": [
      "C:\\Users\\Evgeniy\\Anaconda3\\lib\\site-packages\\mir_eval\\transcription_velocity.py:185: FutureWarning: `rcond` parameter will change to the default of machine precision times ``max(M, N)`` where M and N are the input matrix dimensions.\n",
      "To use the future default and silence this warning we advise to pass `rcond=None`, to keep using the old, explicitly pass `rcond=-1`.\n",
      "  ref_matched_velocities)[0]\n"
     ]
    },
    {
     "name": "stdout",
     "output_type": "stream",
     "text": [
      "\t6 of 17\n",
      "81/81 [==============================] - 3s 31ms/step\n",
      "81/81 [==============================] - 2s 31ms/step\n",
      "81/81 [==============================] - 1s 17ms/step\n",
      "81/81 [==============================] - 2s 29ms/step\n"
     ]
    },
    {
     "name": "stderr",
     "output_type": "stream",
     "text": [
      "C:\\Users\\Evgeniy\\Anaconda3\\lib\\site-packages\\mir_eval\\transcription_velocity.py:185: FutureWarning: `rcond` parameter will change to the default of machine precision times ``max(M, N)`` where M and N are the input matrix dimensions.\n",
      "To use the future default and silence this warning we advise to pass `rcond=None`, to keep using the old, explicitly pass `rcond=-1`.\n",
      "  ref_matched_velocities)[0]\n"
     ]
    },
    {
     "name": "stdout",
     "output_type": "stream",
     "text": [
      "\t7 of 17\n",
      "72/72 [==============================] - 2s 30ms/step\n",
      "72/72 [==============================] - 2s 30ms/step\n",
      "72/72 [==============================] - 1s 17ms/step\n",
      "72/72 [==============================] - 2s 28ms/step\n"
     ]
    },
    {
     "name": "stderr",
     "output_type": "stream",
     "text": [
      "C:\\Users\\Evgeniy\\Anaconda3\\lib\\site-packages\\mir_eval\\transcription_velocity.py:185: FutureWarning: `rcond` parameter will change to the default of machine precision times ``max(M, N)`` where M and N are the input matrix dimensions.\n",
      "To use the future default and silence this warning we advise to pass `rcond=None`, to keep using the old, explicitly pass `rcond=-1`.\n",
      "  ref_matched_velocities)[0]\n"
     ]
    },
    {
     "name": "stdout",
     "output_type": "stream",
     "text": [
      "\t8 of 17\n",
      "17/17 [==============================] - 1s 38ms/step\n",
      "17/17 [==============================] - 1s 39ms/step\n",
      "17/17 [==============================] - 0s 17ms/step\n",
      "17/17 [==============================] - 1s 34ms/step\n"
     ]
    },
    {
     "name": "stderr",
     "output_type": "stream",
     "text": [
      "C:\\Users\\Evgeniy\\Anaconda3\\lib\\site-packages\\mir_eval\\transcription_velocity.py:185: FutureWarning: `rcond` parameter will change to the default of machine precision times ``max(M, N)`` where M and N are the input matrix dimensions.\n",
      "To use the future default and silence this warning we advise to pass `rcond=None`, to keep using the old, explicitly pass `rcond=-1`.\n",
      "  ref_matched_velocities)[0]\n"
     ]
    },
    {
     "name": "stdout",
     "output_type": "stream",
     "text": [
      "\t9 of 17\n",
      "12/12 [==============================] - 0s 32ms/step\n",
      "12/12 [==============================] - 0s 32ms/step\n",
      "12/12 [==============================] - 0s 17ms/step\n",
      "12/12 [==============================] - 0s 30ms/step\n"
     ]
    },
    {
     "name": "stderr",
     "output_type": "stream",
     "text": [
      "C:\\Users\\Evgeniy\\Anaconda3\\lib\\site-packages\\mir_eval\\transcription_velocity.py:185: FutureWarning: `rcond` parameter will change to the default of machine precision times ``max(M, N)`` where M and N are the input matrix dimensions.\n",
      "To use the future default and silence this warning we advise to pass `rcond=None`, to keep using the old, explicitly pass `rcond=-1`.\n",
      "  ref_matched_velocities)[0]\n"
     ]
    },
    {
     "name": "stdout",
     "output_type": "stream",
     "text": [
      "\t10 of 17\n",
      "47/47 [==============================] - 1s 29ms/step\n",
      "47/47 [==============================] - 1s 29ms/step\n",
      "47/47 [==============================] - 1s 17ms/step\n",
      "47/47 [==============================] - 1s 27ms/step\n"
     ]
    },
    {
     "name": "stderr",
     "output_type": "stream",
     "text": [
      "C:\\Users\\Evgeniy\\Anaconda3\\lib\\site-packages\\mir_eval\\transcription_velocity.py:185: FutureWarning: `rcond` parameter will change to the default of machine precision times ``max(M, N)`` where M and N are the input matrix dimensions.\n",
      "To use the future default and silence this warning we advise to pass `rcond=None`, to keep using the old, explicitly pass `rcond=-1`.\n",
      "  ref_matched_velocities)[0]\n"
     ]
    },
    {
     "name": "stdout",
     "output_type": "stream",
     "text": [
      "\t11 of 17\n",
      "65/65 [==============================] - 2s 31ms/step\n",
      "65/65 [==============================] - 2s 31ms/step\n",
      "65/65 [==============================] - 1s 17ms/step\n",
      "65/65 [==============================] - 2s 31ms/step\n"
     ]
    },
    {
     "name": "stderr",
     "output_type": "stream",
     "text": [
      "C:\\Users\\Evgeniy\\Anaconda3\\lib\\site-packages\\mir_eval\\transcription_velocity.py:185: FutureWarning: `rcond` parameter will change to the default of machine precision times ``max(M, N)`` where M and N are the input matrix dimensions.\n",
      "To use the future default and silence this warning we advise to pass `rcond=None`, to keep using the old, explicitly pass `rcond=-1`.\n",
      "  ref_matched_velocities)[0]\n"
     ]
    },
    {
     "name": "stdout",
     "output_type": "stream",
     "text": [
      "\t12 of 17\n",
      "9/9 [==============================] - 0s 37ms/step\n",
      "9/9 [==============================] - 0s 36ms/step\n",
      "9/9 [==============================] - 0s 17ms/step\n",
      "9/9 [==============================] - 0s 34ms/step\n"
     ]
    },
    {
     "name": "stderr",
     "output_type": "stream",
     "text": [
      "C:\\Users\\Evgeniy\\Anaconda3\\lib\\site-packages\\mir_eval\\transcription_velocity.py:185: FutureWarning: `rcond` parameter will change to the default of machine precision times ``max(M, N)`` where M and N are the input matrix dimensions.\n",
      "To use the future default and silence this warning we advise to pass `rcond=None`, to keep using the old, explicitly pass `rcond=-1`.\n",
      "  ref_matched_velocities)[0]\n"
     ]
    },
    {
     "name": "stdout",
     "output_type": "stream",
     "text": [
      "\t13 of 17\n",
      "7/7 [==============================] - 0s 41ms/step\n",
      "7/7 [==============================] - 0s 42ms/step\n",
      "7/7 [==============================] - 0s 17ms/step\n",
      "7/7 [==============================] - 0s 39ms/step\n"
     ]
    },
    {
     "name": "stderr",
     "output_type": "stream",
     "text": [
      "C:\\Users\\Evgeniy\\Anaconda3\\lib\\site-packages\\mir_eval\\transcription_velocity.py:185: FutureWarning: `rcond` parameter will change to the default of machine precision times ``max(M, N)`` where M and N are the input matrix dimensions.\n",
      "To use the future default and silence this warning we advise to pass `rcond=None`, to keep using the old, explicitly pass `rcond=-1`.\n",
      "  ref_matched_velocities)[0]\n"
     ]
    },
    {
     "name": "stdout",
     "output_type": "stream",
     "text": [
      "\t14 of 17\n",
      "46/46 [==============================] - 1s 29ms/step\n",
      "46/46 [==============================] - 1s 29ms/step\n",
      "46/46 [==============================] - 1s 17ms/step\n",
      "46/46 [==============================] - 1s 27ms/step\n"
     ]
    },
    {
     "name": "stderr",
     "output_type": "stream",
     "text": [
      "C:\\Users\\Evgeniy\\Anaconda3\\lib\\site-packages\\mir_eval\\transcription_velocity.py:185: FutureWarning: `rcond` parameter will change to the default of machine precision times ``max(M, N)`` where M and N are the input matrix dimensions.\n",
      "To use the future default and silence this warning we advise to pass `rcond=None`, to keep using the old, explicitly pass `rcond=-1`.\n",
      "  ref_matched_velocities)[0]\n"
     ]
    },
    {
     "name": "stdout",
     "output_type": "stream",
     "text": [
      "\t15 of 17\n",
      "73/73 [==============================] - 2s 30ms/step\n",
      "73/73 [==============================] - 2s 30ms/step\n",
      "73/73 [==============================] - 1s 17ms/step\n",
      "73/73 [==============================] - 2s 28ms/step\n"
     ]
    },
    {
     "name": "stderr",
     "output_type": "stream",
     "text": [
      "C:\\Users\\Evgeniy\\Anaconda3\\lib\\site-packages\\mir_eval\\transcription_velocity.py:185: FutureWarning: `rcond` parameter will change to the default of machine precision times ``max(M, N)`` where M and N are the input matrix dimensions.\n",
      "To use the future default and silence this warning we advise to pass `rcond=None`, to keep using the old, explicitly pass `rcond=-1`.\n",
      "  ref_matched_velocities)[0]\n"
     ]
    },
    {
     "name": "stdout",
     "output_type": "stream",
     "text": [
      "\t16 of 17\n",
      "20/20 [==============================] - 1s 34ms/step\n",
      "20/20 [==============================] - 1s 34ms/step\n",
      "20/20 [==============================] - 0s 17ms/step\n",
      "20/20 [==============================] - 1s 32ms/step\n"
     ]
    },
    {
     "name": "stderr",
     "output_type": "stream",
     "text": [
      "C:\\Users\\Evgeniy\\Anaconda3\\lib\\site-packages\\mir_eval\\transcription_velocity.py:185: FutureWarning: `rcond` parameter will change to the default of machine precision times ``max(M, N)`` where M and N are the input matrix dimensions.\n",
      "To use the future default and silence this warning we advise to pass `rcond=None`, to keep using the old, explicitly pass `rcond=-1`.\n",
      "  ref_matched_velocities)[0]\n"
     ]
    },
    {
     "name": "stdout",
     "output_type": "stream",
     "text": [
      "\t17 of 17\n",
      "20/20 [==============================] - 1s 34ms/step\n",
      "20/20 [==============================] - 1s 34ms/step\n",
      "20/20 [==============================] - 0s 17ms/step\n",
      "20/20 [==============================] - 1s 32ms/step\n"
     ]
    },
    {
     "name": "stderr",
     "output_type": "stream",
     "text": [
      "C:\\Users\\Evgeniy\\Anaconda3\\lib\\site-packages\\mir_eval\\transcription_velocity.py:185: FutureWarning: `rcond` parameter will change to the default of machine precision times ``max(M, N)`` where M and N are the input matrix dimensions.\n",
      "To use the future default and silence this warning we advise to pass `rcond=None`, to keep using the old, explicitly pass `rcond=-1`.\n",
      "  ref_matched_velocities)[0]\n"
     ]
    },
    {
     "name": "stdout",
     "output_type": "stream",
     "text": [
      "\n",
      "Onsets: \n",
      "Precision (specificity) = 84.51%\n",
      "Recall    (sensitivity) = 92.21%\n",
      "F1-score                = 88.00%\n",
      "\n",
      "Frames: \n",
      "Precision (specificity) = 67.02%\n",
      "Recall    (sensitivity) = 72.83%\n",
      "F1-score                = 69.65%\n",
      "\n",
      "Volumes:\n",
      "Precision (specificity) = 63.62%\n",
      "Recall    (sensitivity) = 69.17%\n",
      "F1-score                = 66.13%\n",
      "\n",
      "Actual and predicted average number of onsets: 1.60 1.58\n",
      "Predicts less notes than actual (specific classifier)\n",
      "\n",
      "Maestro/1-5 seconds/test\\2011\n",
      "\t1 of 16\n",
      "30/30 [==============================] - 1s 36ms/step\n",
      "30/30 [==============================] - 1s 29ms/step\n",
      "30/30 [==============================] - 1s 17ms/step\n",
      "30/30 [==============================] - 1s 28ms/step\n"
     ]
    },
    {
     "name": "stderr",
     "output_type": "stream",
     "text": [
      "C:\\Users\\Evgeniy\\Anaconda3\\lib\\site-packages\\mir_eval\\transcription_velocity.py:185: FutureWarning: `rcond` parameter will change to the default of machine precision times ``max(M, N)`` where M and N are the input matrix dimensions.\n",
      "To use the future default and silence this warning we advise to pass `rcond=None`, to keep using the old, explicitly pass `rcond=-1`.\n",
      "  ref_matched_velocities)[0]\n"
     ]
    },
    {
     "name": "stdout",
     "output_type": "stream",
     "text": [
      "\t2 of 16\n",
      "10/10 [==============================] - 0s 34ms/step\n",
      "10/10 [==============================] - 0s 34ms/step\n",
      "10/10 [==============================] - 0s 17ms/step\n",
      "10/10 [==============================] - 0s 32ms/step\n"
     ]
    },
    {
     "name": "stderr",
     "output_type": "stream",
     "text": [
      "C:\\Users\\Evgeniy\\Anaconda3\\lib\\site-packages\\mir_eval\\transcription_velocity.py:185: FutureWarning: `rcond` parameter will change to the default of machine precision times ``max(M, N)`` where M and N are the input matrix dimensions.\n",
      "To use the future default and silence this warning we advise to pass `rcond=None`, to keep using the old, explicitly pass `rcond=-1`.\n",
      "  ref_matched_velocities)[0]\n"
     ]
    },
    {
     "name": "stdout",
     "output_type": "stream",
     "text": [
      "\t3 of 16\n",
      "19/19 [==============================] - 1s 35ms/step\n",
      "19/19 [==============================] - 1s 35ms/step\n",
      "19/19 [==============================] - 0s 17ms/step\n",
      "19/19 [==============================] - 1s 33ms/step\n"
     ]
    },
    {
     "name": "stderr",
     "output_type": "stream",
     "text": [
      "C:\\Users\\Evgeniy\\Anaconda3\\lib\\site-packages\\mir_eval\\transcription_velocity.py:185: FutureWarning: `rcond` parameter will change to the default of machine precision times ``max(M, N)`` where M and N are the input matrix dimensions.\n",
      "To use the future default and silence this warning we advise to pass `rcond=None`, to keep using the old, explicitly pass `rcond=-1`.\n",
      "  ref_matched_velocities)[0]\n"
     ]
    },
    {
     "name": "stdout",
     "output_type": "stream",
     "text": [
      "\t4 of 16\n",
      "19/19 [==============================] - 1s 35ms/step\n",
      "19/19 [==============================] - 1s 35ms/step\n",
      "19/19 [==============================] - 0s 17ms/step\n",
      "19/19 [==============================] - 1s 33ms/step\n"
     ]
    },
    {
     "name": "stderr",
     "output_type": "stream",
     "text": [
      "C:\\Users\\Evgeniy\\Anaconda3\\lib\\site-packages\\mir_eval\\transcription_velocity.py:185: FutureWarning: `rcond` parameter will change to the default of machine precision times ``max(M, N)`` where M and N are the input matrix dimensions.\n",
      "To use the future default and silence this warning we advise to pass `rcond=None`, to keep using the old, explicitly pass `rcond=-1`.\n",
      "  ref_matched_velocities)[0]\n"
     ]
    },
    {
     "name": "stdout",
     "output_type": "stream",
     "text": [
      "\t5 of 16\n",
      "18/18 [==============================] - 1s 36ms/step\n",
      "18/18 [==============================] - 1s 36ms/step\n",
      "18/18 [==============================] - 0s 17ms/step\n",
      "18/18 [==============================] - 1s 34ms/step\n"
     ]
    },
    {
     "name": "stderr",
     "output_type": "stream",
     "text": [
      "C:\\Users\\Evgeniy\\Anaconda3\\lib\\site-packages\\mir_eval\\transcription_velocity.py:185: FutureWarning: `rcond` parameter will change to the default of machine precision times ``max(M, N)`` where M and N are the input matrix dimensions.\n",
      "To use the future default and silence this warning we advise to pass `rcond=None`, to keep using the old, explicitly pass `rcond=-1`.\n",
      "  ref_matched_velocities)[0]\n"
     ]
    },
    {
     "name": "stdout",
     "output_type": "stream",
     "text": [
      "\t6 of 16\n",
      "18/18 [==============================] - 1s 36ms/step\n",
      "18/18 [==============================] - 1s 36ms/step\n",
      "18/18 [==============================] - 0s 17ms/step\n",
      "18/18 [==============================] - 1s 33ms/step\n"
     ]
    },
    {
     "name": "stderr",
     "output_type": "stream",
     "text": [
      "C:\\Users\\Evgeniy\\Anaconda3\\lib\\site-packages\\mir_eval\\transcription_velocity.py:185: FutureWarning: `rcond` parameter will change to the default of machine precision times ``max(M, N)`` where M and N are the input matrix dimensions.\n",
      "To use the future default and silence this warning we advise to pass `rcond=None`, to keep using the old, explicitly pass `rcond=-1`.\n",
      "  ref_matched_velocities)[0]\n"
     ]
    },
    {
     "name": "stdout",
     "output_type": "stream",
     "text": [
      "\t7 of 16\n",
      "9/9 [==============================] - 0s 36ms/step\n",
      "9/9 [==============================] - 0s 37ms/step\n",
      "9/9 [==============================] - 0s 17ms/step\n",
      "9/9 [==============================] - 0s 34ms/step\n"
     ]
    },
    {
     "name": "stderr",
     "output_type": "stream",
     "text": [
      "C:\\Users\\Evgeniy\\Anaconda3\\lib\\site-packages\\mir_eval\\transcription_velocity.py:185: FutureWarning: `rcond` parameter will change to the default of machine precision times ``max(M, N)`` where M and N are the input matrix dimensions.\n",
      "To use the future default and silence this warning we advise to pass `rcond=None`, to keep using the old, explicitly pass `rcond=-1`.\n",
      "  ref_matched_velocities)[0]\n"
     ]
    },
    {
     "name": "stdout",
     "output_type": "stream",
     "text": [
      "\t8 of 16\n",
      "16/16 [==============================] - 0s 28ms/step\n",
      "16/16 [==============================] - 0s 28ms/step\n",
      "16/16 [==============================] - 0s 17ms/step\n",
      "16/16 [==============================] - 0s 27ms/step\n"
     ]
    },
    {
     "name": "stderr",
     "output_type": "stream",
     "text": [
      "C:\\Users\\Evgeniy\\Anaconda3\\lib\\site-packages\\mir_eval\\transcription_velocity.py:185: FutureWarning: `rcond` parameter will change to the default of machine precision times ``max(M, N)`` where M and N are the input matrix dimensions.\n",
      "To use the future default and silence this warning we advise to pass `rcond=None`, to keep using the old, explicitly pass `rcond=-1`.\n",
      "  ref_matched_velocities)[0]\n"
     ]
    },
    {
     "name": "stdout",
     "output_type": "stream",
     "text": [
      "\t9 of 16\n",
      "15/15 [==============================] - 0s 29ms/step\n",
      "15/15 [==============================] - 0s 29ms/step\n",
      "15/15 [==============================] - 0s 16ms/step\n",
      "15/15 [==============================] - 0s 27ms/step\n"
     ]
    },
    {
     "name": "stderr",
     "output_type": "stream",
     "text": [
      "C:\\Users\\Evgeniy\\Anaconda3\\lib\\site-packages\\mir_eval\\transcription_velocity.py:185: FutureWarning: `rcond` parameter will change to the default of machine precision times ``max(M, N)`` where M and N are the input matrix dimensions.\n",
      "To use the future default and silence this warning we advise to pass `rcond=None`, to keep using the old, explicitly pass `rcond=-1`.\n",
      "  ref_matched_velocities)[0]\n"
     ]
    },
    {
     "name": "stdout",
     "output_type": "stream",
     "text": [
      "\t10 of 16\n",
      "20/20 [==============================] - 1s 34ms/step\n",
      "20/20 [==============================] - 1s 34ms/step\n",
      "20/20 [==============================] - 0s 17ms/step\n",
      "20/20 [==============================] - 1s 32ms/step\n"
     ]
    },
    {
     "name": "stderr",
     "output_type": "stream",
     "text": [
      "C:\\Users\\Evgeniy\\Anaconda3\\lib\\site-packages\\mir_eval\\transcription_velocity.py:185: FutureWarning: `rcond` parameter will change to the default of machine precision times ``max(M, N)`` where M and N are the input matrix dimensions.\n",
      "To use the future default and silence this warning we advise to pass `rcond=None`, to keep using the old, explicitly pass `rcond=-1`.\n",
      "  ref_matched_velocities)[0]\n"
     ]
    },
    {
     "name": "stdout",
     "output_type": "stream",
     "text": [
      "\t11 of 16\n",
      "17/17 [==============================] - 1s 38ms/step\n",
      "17/17 [==============================] - 1s 38ms/step\n",
      "17/17 [==============================] - 0s 17ms/step\n",
      "17/17 [==============================] - 1s 51ms/step\n"
     ]
    },
    {
     "name": "stderr",
     "output_type": "stream",
     "text": [
      "C:\\Users\\Evgeniy\\Anaconda3\\lib\\site-packages\\mir_eval\\transcription_velocity.py:185: FutureWarning: `rcond` parameter will change to the default of machine precision times ``max(M, N)`` where M and N are the input matrix dimensions.\n",
      "To use the future default and silence this warning we advise to pass `rcond=None`, to keep using the old, explicitly pass `rcond=-1`.\n",
      "  ref_matched_velocities)[0]\n"
     ]
    },
    {
     "name": "stdout",
     "output_type": "stream",
     "text": [
      "\t12 of 16\n",
      "13/13 [==============================] - 1s 93ms/step\n",
      "13/13 [==============================] - 0s 30ms/step\n",
      "13/13 [==============================] - 0s 17ms/step\n",
      "13/13 [==============================] - 0s 29ms/step\n"
     ]
    },
    {
     "name": "stderr",
     "output_type": "stream",
     "text": [
      "C:\\Users\\Evgeniy\\Anaconda3\\lib\\site-packages\\mir_eval\\transcription_velocity.py:185: FutureWarning: `rcond` parameter will change to the default of machine precision times ``max(M, N)`` where M and N are the input matrix dimensions.\n",
      "To use the future default and silence this warning we advise to pass `rcond=None`, to keep using the old, explicitly pass `rcond=-1`.\n",
      "  ref_matched_velocities)[0]\n"
     ]
    },
    {
     "name": "stdout",
     "output_type": "stream",
     "text": [
      "\t13 of 16\n",
      "22/22 [==============================] - 1s 33ms/step\n",
      "22/22 [==============================] - 1s 33ms/step\n",
      "22/22 [==============================] - 0s 17ms/step\n",
      "22/22 [==============================] - 1s 31ms/step\n"
     ]
    },
    {
     "name": "stderr",
     "output_type": "stream",
     "text": [
      "C:\\Users\\Evgeniy\\Anaconda3\\lib\\site-packages\\mir_eval\\transcription_velocity.py:185: FutureWarning: `rcond` parameter will change to the default of machine precision times ``max(M, N)`` where M and N are the input matrix dimensions.\n",
      "To use the future default and silence this warning we advise to pass `rcond=None`, to keep using the old, explicitly pass `rcond=-1`.\n",
      "  ref_matched_velocities)[0]\n"
     ]
    },
    {
     "name": "stdout",
     "output_type": "stream",
     "text": [
      "\t14 of 16\n",
      "7/7 [==============================] - 0s 42ms/step\n",
      "7/7 [==============================] - 0s 42ms/step\n",
      "7/7 [==============================] - 0s 17ms/step\n",
      "7/7 [==============================] - 0s 39ms/step\n"
     ]
    },
    {
     "name": "stderr",
     "output_type": "stream",
     "text": [
      "C:\\Users\\Evgeniy\\Anaconda3\\lib\\site-packages\\mir_eval\\transcription_velocity.py:185: FutureWarning: `rcond` parameter will change to the default of machine precision times ``max(M, N)`` where M and N are the input matrix dimensions.\n",
      "To use the future default and silence this warning we advise to pass `rcond=None`, to keep using the old, explicitly pass `rcond=-1`.\n",
      "  ref_matched_velocities)[0]\n"
     ]
    },
    {
     "name": "stdout",
     "output_type": "stream",
     "text": [
      "\t15 of 16\n",
      "16/16 [==============================] - 0s 28ms/step\n",
      "16/16 [==============================] - 0s 28ms/step\n",
      "16/16 [==============================] - 0s 17ms/step\n",
      "16/16 [==============================] - 0s 27ms/step\n"
     ]
    },
    {
     "name": "stderr",
     "output_type": "stream",
     "text": [
      "C:\\Users\\Evgeniy\\Anaconda3\\lib\\site-packages\\mir_eval\\transcription_velocity.py:185: FutureWarning: `rcond` parameter will change to the default of machine precision times ``max(M, N)`` where M and N are the input matrix dimensions.\n",
      "To use the future default and silence this warning we advise to pass `rcond=None`, to keep using the old, explicitly pass `rcond=-1`.\n",
      "  ref_matched_velocities)[0]\n"
     ]
    },
    {
     "name": "stdout",
     "output_type": "stream",
     "text": [
      "\t16 of 16\n",
      "29/29 [==============================] - 1s 29ms/step\n",
      "29/29 [==============================] - 1s 29ms/step\n",
      "29/29 [==============================] - 0s 17ms/step\n",
      "29/29 [==============================] - 1s 28ms/step\n"
     ]
    },
    {
     "name": "stderr",
     "output_type": "stream",
     "text": [
      "C:\\Users\\Evgeniy\\Anaconda3\\lib\\site-packages\\mir_eval\\transcription_velocity.py:185: FutureWarning: `rcond` parameter will change to the default of machine precision times ``max(M, N)`` where M and N are the input matrix dimensions.\n",
      "To use the future default and silence this warning we advise to pass `rcond=None`, to keep using the old, explicitly pass `rcond=-1`.\n",
      "  ref_matched_velocities)[0]\n"
     ]
    },
    {
     "name": "stdout",
     "output_type": "stream",
     "text": [
      "\n",
      "Onsets: \n",
      "Precision (specificity) = 85.86%\n",
      "Recall    (sensitivity) = 91.92%\n",
      "F1-score                = 88.67%\n",
      "\n",
      "Frames: \n",
      "Precision (specificity) = 70.27%\n",
      "Recall    (sensitivity) = 75.14%\n",
      "F1-score                = 72.53%\n",
      "\n",
      "Volumes:\n",
      "Precision (specificity) = 67.46%\n",
      "Recall    (sensitivity) = 72.16%\n",
      "F1-score                = 69.64%\n",
      "\n",
      "Actual and predicted average number of onsets: 1.84 1.79\n",
      "Predicts less notes than actual (specific classifier)\n",
      "\n",
      "Maestro/1-5 seconds/test\\2013\n",
      "\t1 of 10\n",
      "16/16 [==============================] - 0s 28ms/step\n",
      "16/16 [==============================] - 0s 28ms/step\n",
      "16/16 [==============================] - 0s 17ms/step\n",
      "16/16 [==============================] - 0s 27ms/step\n"
     ]
    },
    {
     "name": "stderr",
     "output_type": "stream",
     "text": [
      "C:\\Users\\Evgeniy\\Anaconda3\\lib\\site-packages\\mir_eval\\transcription_velocity.py:185: FutureWarning: `rcond` parameter will change to the default of machine precision times ``max(M, N)`` where M and N are the input matrix dimensions.\n",
      "To use the future default and silence this warning we advise to pass `rcond=None`, to keep using the old, explicitly pass `rcond=-1`.\n",
      "  ref_matched_velocities)[0]\n"
     ]
    },
    {
     "name": "stdout",
     "output_type": "stream",
     "text": [
      "\t2 of 10\n",
      "16/16 [==============================] - 0s 28ms/step\n",
      "16/16 [==============================] - 0s 28ms/step\n",
      "16/16 [==============================] - 0s 17ms/step\n",
      "16/16 [==============================] - 0s 27ms/step\n"
     ]
    },
    {
     "name": "stderr",
     "output_type": "stream",
     "text": [
      "C:\\Users\\Evgeniy\\Anaconda3\\lib\\site-packages\\mir_eval\\transcription_velocity.py:185: FutureWarning: `rcond` parameter will change to the default of machine precision times ``max(M, N)`` where M and N are the input matrix dimensions.\n",
      "To use the future default and silence this warning we advise to pass `rcond=None`, to keep using the old, explicitly pass `rcond=-1`.\n",
      "  ref_matched_velocities)[0]\n"
     ]
    },
    {
     "name": "stdout",
     "output_type": "stream",
     "text": [
      "\t3 of 10\n",
      "15/15 [==============================] - 0s 29ms/step\n",
      "15/15 [==============================] - 0s 29ms/step\n",
      "15/15 [==============================] - 0s 17ms/step\n",
      "15/15 [==============================] - 0s 27ms/step\n"
     ]
    },
    {
     "name": "stderr",
     "output_type": "stream",
     "text": [
      "C:\\Users\\Evgeniy\\Anaconda3\\lib\\site-packages\\mir_eval\\transcription_velocity.py:185: FutureWarning: `rcond` parameter will change to the default of machine precision times ``max(M, N)`` where M and N are the input matrix dimensions.\n",
      "To use the future default and silence this warning we advise to pass `rcond=None`, to keep using the old, explicitly pass `rcond=-1`.\n",
      "  ref_matched_velocities)[0]\n"
     ]
    },
    {
     "name": "stdout",
     "output_type": "stream",
     "text": [
      "\t4 of 10\n",
      "26/26 [==============================] - 1s 31ms/step\n",
      "26/26 [==============================] - 1s 31ms/step\n",
      "26/26 [==============================] - 0s 17ms/step\n",
      "26/26 [==============================] - 1s 29ms/step\n"
     ]
    },
    {
     "name": "stderr",
     "output_type": "stream",
     "text": [
      "C:\\Users\\Evgeniy\\Anaconda3\\lib\\site-packages\\mir_eval\\transcription_velocity.py:185: FutureWarning: `rcond` parameter will change to the default of machine precision times ``max(M, N)`` where M and N are the input matrix dimensions.\n",
      "To use the future default and silence this warning we advise to pass `rcond=None`, to keep using the old, explicitly pass `rcond=-1`.\n",
      "  ref_matched_velocities)[0]\n"
     ]
    },
    {
     "name": "stdout",
     "output_type": "stream",
     "text": [
      "\t5 of 10\n",
      "21/21 [==============================] - 1s 34ms/step\n",
      "21/21 [==============================] - 1s 34ms/step\n",
      "21/21 [==============================] - 0s 17ms/step\n",
      "21/21 [==============================] - 1s 32ms/step\n"
     ]
    },
    {
     "name": "stderr",
     "output_type": "stream",
     "text": [
      "C:\\Users\\Evgeniy\\Anaconda3\\lib\\site-packages\\mir_eval\\transcription_velocity.py:185: FutureWarning: `rcond` parameter will change to the default of machine precision times ``max(M, N)`` where M and N are the input matrix dimensions.\n",
      "To use the future default and silence this warning we advise to pass `rcond=None`, to keep using the old, explicitly pass `rcond=-1`.\n",
      "  ref_matched_velocities)[0]\n"
     ]
    },
    {
     "name": "stdout",
     "output_type": "stream",
     "text": [
      "\t6 of 10\n",
      "57/57 [==============================] - 2s 30ms/step\n",
      "57/57 [==============================] - 2s 30ms/step\n",
      "57/57 [==============================] - 1s 17ms/step\n",
      "57/57 [==============================] - 2s 28ms/step\n"
     ]
    },
    {
     "name": "stderr",
     "output_type": "stream",
     "text": [
      "C:\\Users\\Evgeniy\\Anaconda3\\lib\\site-packages\\mir_eval\\transcription_velocity.py:185: FutureWarning: `rcond` parameter will change to the default of machine precision times ``max(M, N)`` where M and N are the input matrix dimensions.\n",
      "To use the future default and silence this warning we advise to pass `rcond=None`, to keep using the old, explicitly pass `rcond=-1`.\n",
      "  ref_matched_velocities)[0]\n"
     ]
    },
    {
     "name": "stdout",
     "output_type": "stream",
     "text": [
      "\t7 of 10\n",
      "19/19 [==============================] - 1s 35ms/step\n",
      "19/19 [==============================] - 1s 35ms/step\n",
      "19/19 [==============================] - 0s 17ms/step\n",
      "19/19 [==============================] - 1s 33ms/step\n"
     ]
    },
    {
     "name": "stderr",
     "output_type": "stream",
     "text": [
      "C:\\Users\\Evgeniy\\Anaconda3\\lib\\site-packages\\mir_eval\\transcription_velocity.py:185: FutureWarning: `rcond` parameter will change to the default of machine precision times ``max(M, N)`` where M and N are the input matrix dimensions.\n",
      "To use the future default and silence this warning we advise to pass `rcond=None`, to keep using the old, explicitly pass `rcond=-1`.\n",
      "  ref_matched_velocities)[0]\n"
     ]
    },
    {
     "name": "stdout",
     "output_type": "stream",
     "text": [
      "\t8 of 10\n",
      "12/12 [==============================] - 0s 31ms/step\n",
      "12/12 [==============================] - 0s 32ms/step\n",
      "12/12 [==============================] - 0s 17ms/step\n",
      "12/12 [==============================] - 0s 30ms/step\n"
     ]
    },
    {
     "name": "stderr",
     "output_type": "stream",
     "text": [
      "C:\\Users\\Evgeniy\\Anaconda3\\lib\\site-packages\\mir_eval\\transcription_velocity.py:185: FutureWarning: `rcond` parameter will change to the default of machine precision times ``max(M, N)`` where M and N are the input matrix dimensions.\n",
      "To use the future default and silence this warning we advise to pass `rcond=None`, to keep using the old, explicitly pass `rcond=-1`.\n",
      "  ref_matched_velocities)[0]\n"
     ]
    },
    {
     "name": "stdout",
     "output_type": "stream",
     "text": [
      "\t9 of 10\n",
      "20/20 [==============================] - 1s 34ms/step\n",
      "20/20 [==============================] - 1s 34ms/step\n",
      "20/20 [==============================] - 0s 17ms/step\n",
      "20/20 [==============================] - 1s 32ms/step\n"
     ]
    },
    {
     "name": "stderr",
     "output_type": "stream",
     "text": [
      "C:\\Users\\Evgeniy\\Anaconda3\\lib\\site-packages\\mir_eval\\transcription_velocity.py:185: FutureWarning: `rcond` parameter will change to the default of machine precision times ``max(M, N)`` where M and N are the input matrix dimensions.\n",
      "To use the future default and silence this warning we advise to pass `rcond=None`, to keep using the old, explicitly pass `rcond=-1`.\n",
      "  ref_matched_velocities)[0]\n"
     ]
    },
    {
     "name": "stdout",
     "output_type": "stream",
     "text": [
      "\t10 of 10\n",
      "23/23 [==============================] - 1s 32ms/step\n",
      "23/23 [==============================] - 1s 32ms/step\n",
      "23/23 [==============================] - 0s 17ms/step\n",
      "23/23 [==============================] - 1s 30ms/step\n"
     ]
    },
    {
     "name": "stderr",
     "output_type": "stream",
     "text": [
      "C:\\Users\\Evgeniy\\Anaconda3\\lib\\site-packages\\mir_eval\\transcription_velocity.py:185: FutureWarning: `rcond` parameter will change to the default of machine precision times ``max(M, N)`` where M and N are the input matrix dimensions.\n",
      "To use the future default and silence this warning we advise to pass `rcond=None`, to keep using the old, explicitly pass `rcond=-1`.\n",
      "  ref_matched_velocities)[0]\n"
     ]
    },
    {
     "name": "stdout",
     "output_type": "stream",
     "text": [
      "\n",
      "Onsets: \n",
      "Precision (specificity) = 82.04%\n",
      "Recall    (sensitivity) = 88.30%\n",
      "F1-score                = 84.99%\n",
      "\n",
      "Frames: \n",
      "Precision (specificity) = 67.18%\n",
      "Recall    (sensitivity) = 72.30%\n",
      "F1-score                = 69.60%\n",
      "\n",
      "Volumes:\n",
      "Precision (specificity) = 63.77%\n",
      "Recall    (sensitivity) = 68.66%\n",
      "F1-score                = 66.08%\n",
      "\n",
      "Actual and predicted average number of onsets: 2.03 1.96\n",
      "Predicts less notes than actual (specific classifier)\n",
      "\n",
      "Maestro/1-5 seconds/test\\2014\n",
      "\t1 of 16\n",
      "22/22 [==============================] - 1s 43ms/step\n",
      "22/22 [==============================] - 1s 33ms/step\n",
      "22/22 [==============================] - 0s 17ms/step\n",
      "22/22 [==============================] - 1s 31ms/step\n"
     ]
    },
    {
     "name": "stderr",
     "output_type": "stream",
     "text": [
      "C:\\Users\\Evgeniy\\Anaconda3\\lib\\site-packages\\mir_eval\\transcription_velocity.py:185: FutureWarning: `rcond` parameter will change to the default of machine precision times ``max(M, N)`` where M and N are the input matrix dimensions.\n",
      "To use the future default and silence this warning we advise to pass `rcond=None`, to keep using the old, explicitly pass `rcond=-1`.\n",
      "  ref_matched_velocities)[0]\n"
     ]
    },
    {
     "name": "stdout",
     "output_type": "stream",
     "text": [
      "\t2 of 16\n",
      "17/17 [==============================] - 1s 37ms/step\n",
      "17/17 [==============================] - 1s 37ms/step\n",
      "17/17 [==============================] - 0s 18ms/step\n",
      "17/17 [==============================] - 1s 35ms/step\n"
     ]
    },
    {
     "name": "stderr",
     "output_type": "stream",
     "text": [
      "C:\\Users\\Evgeniy\\Anaconda3\\lib\\site-packages\\mir_eval\\transcription_velocity.py:185: FutureWarning: `rcond` parameter will change to the default of machine precision times ``max(M, N)`` where M and N are the input matrix dimensions.\n",
      "To use the future default and silence this warning we advise to pass `rcond=None`, to keep using the old, explicitly pass `rcond=-1`.\n",
      "  ref_matched_velocities)[0]\n"
     ]
    },
    {
     "name": "stdout",
     "output_type": "stream",
     "text": [
      "\t3 of 16\n",
      "32/32 [==============================] - 1s 28ms/step\n",
      "32/32 [==============================] - 1s 28ms/step\n",
      "32/32 [==============================] - 1s 17ms/step\n",
      "32/32 [==============================] - 1s 27ms/step\n"
     ]
    },
    {
     "name": "stderr",
     "output_type": "stream",
     "text": [
      "C:\\Users\\Evgeniy\\Anaconda3\\lib\\site-packages\\mir_eval\\transcription_velocity.py:185: FutureWarning: `rcond` parameter will change to the default of machine precision times ``max(M, N)`` where M and N are the input matrix dimensions.\n",
      "To use the future default and silence this warning we advise to pass `rcond=None`, to keep using the old, explicitly pass `rcond=-1`.\n",
      "  ref_matched_velocities)[0]\n"
     ]
    },
    {
     "name": "stdout",
     "output_type": "stream",
     "text": [
      "\t4 of 16\n",
      "18/18 [==============================] - 1s 36ms/step\n",
      "18/18 [==============================] - 1s 36ms/step\n",
      "18/18 [==============================] - 0s 17ms/step\n",
      "18/18 [==============================] - 1s 33ms/step\n"
     ]
    },
    {
     "name": "stderr",
     "output_type": "stream",
     "text": [
      "C:\\Users\\Evgeniy\\Anaconda3\\lib\\site-packages\\mir_eval\\transcription_velocity.py:185: FutureWarning: `rcond` parameter will change to the default of machine precision times ``max(M, N)`` where M and N are the input matrix dimensions.\n",
      "To use the future default and silence this warning we advise to pass `rcond=None`, to keep using the old, explicitly pass `rcond=-1`.\n",
      "  ref_matched_velocities)[0]\n"
     ]
    },
    {
     "name": "stdout",
     "output_type": "stream",
     "text": [
      "\t5 of 16\n",
      "61/61 [==============================] - 2s 29ms/step\n",
      "61/61 [==============================] - 2s 29ms/step\n",
      "61/61 [==============================] - 1s 17ms/step\n",
      "61/61 [==============================] - 2s 28ms/step\n"
     ]
    },
    {
     "name": "stderr",
     "output_type": "stream",
     "text": [
      "C:\\Users\\Evgeniy\\Anaconda3\\lib\\site-packages\\mir_eval\\transcription_velocity.py:185: FutureWarning: `rcond` parameter will change to the default of machine precision times ``max(M, N)`` where M and N are the input matrix dimensions.\n",
      "To use the future default and silence this warning we advise to pass `rcond=None`, to keep using the old, explicitly pass `rcond=-1`.\n",
      "  ref_matched_velocities)[0]\n"
     ]
    },
    {
     "name": "stdout",
     "output_type": "stream",
     "text": [
      "\t6 of 16\n",
      "7/7 [==============================] - 0s 41ms/step\n",
      "7/7 [==============================] - 0s 42ms/step\n",
      "7/7 [==============================] - 0s 17ms/step\n",
      "7/7 [==============================] - 0s 39ms/step\n"
     ]
    },
    {
     "name": "stderr",
     "output_type": "stream",
     "text": [
      "C:\\Users\\Evgeniy\\Anaconda3\\lib\\site-packages\\mir_eval\\transcription_velocity.py:185: FutureWarning: `rcond` parameter will change to the default of machine precision times ``max(M, N)`` where M and N are the input matrix dimensions.\n",
      "To use the future default and silence this warning we advise to pass `rcond=None`, to keep using the old, explicitly pass `rcond=-1`.\n",
      "  ref_matched_velocities)[0]\n"
     ]
    },
    {
     "name": "stdout",
     "output_type": "stream",
     "text": [
      "\t7 of 16\n",
      "39/39 [==============================] - 1s 31ms/step\n",
      "39/39 [==============================] - 1s 31ms/step\n",
      "39/39 [==============================] - 1s 17ms/step\n",
      "39/39 [==============================] - 1s 29ms/step\n"
     ]
    },
    {
     "name": "stderr",
     "output_type": "stream",
     "text": [
      "C:\\Users\\Evgeniy\\Anaconda3\\lib\\site-packages\\mir_eval\\transcription_velocity.py:185: FutureWarning: `rcond` parameter will change to the default of machine precision times ``max(M, N)`` where M and N are the input matrix dimensions.\n",
      "To use the future default and silence this warning we advise to pass `rcond=None`, to keep using the old, explicitly pass `rcond=-1`.\n",
      "  ref_matched_velocities)[0]\n"
     ]
    },
    {
     "name": "stdout",
     "output_type": "stream",
     "text": [
      "\t8 of 16\n",
      "57/57 [==============================] - 2s 30ms/step\n",
      "57/57 [==============================] - 2s 30ms/step\n",
      "57/57 [==============================] - 1s 17ms/step\n",
      "57/57 [==============================] - 2s 28ms/step\n"
     ]
    },
    {
     "name": "stderr",
     "output_type": "stream",
     "text": [
      "C:\\Users\\Evgeniy\\Anaconda3\\lib\\site-packages\\mir_eval\\transcription_velocity.py:185: FutureWarning: `rcond` parameter will change to the default of machine precision times ``max(M, N)`` where M and N are the input matrix dimensions.\n",
      "To use the future default and silence this warning we advise to pass `rcond=None`, to keep using the old, explicitly pass `rcond=-1`.\n",
      "  ref_matched_velocities)[0]\n"
     ]
    },
    {
     "name": "stdout",
     "output_type": "stream",
     "text": [
      "\t9 of 16\n",
      "33/33 [==============================] - 1s 33ms/step\n",
      "33/33 [==============================] - 1s 33ms/step\n",
      "33/33 [==============================] - 1s 17ms/step\n",
      "33/33 [==============================] - 1s 31ms/step\n"
     ]
    },
    {
     "name": "stderr",
     "output_type": "stream",
     "text": [
      "C:\\Users\\Evgeniy\\Anaconda3\\lib\\site-packages\\mir_eval\\transcription_velocity.py:185: FutureWarning: `rcond` parameter will change to the default of machine precision times ``max(M, N)`` where M and N are the input matrix dimensions.\n",
      "To use the future default and silence this warning we advise to pass `rcond=None`, to keep using the old, explicitly pass `rcond=-1`.\n",
      "  ref_matched_velocities)[0]\n"
     ]
    },
    {
     "name": "stdout",
     "output_type": "stream",
     "text": [
      "\t10 of 16\n",
      "74/74 [==============================] - 2s 30ms/step\n",
      "74/74 [==============================] - 2s 29ms/step\n",
      "74/74 [==============================] - 1s 17ms/step\n",
      "74/74 [==============================] - 2s 28ms/step\n"
     ]
    },
    {
     "name": "stderr",
     "output_type": "stream",
     "text": [
      "C:\\Users\\Evgeniy\\Anaconda3\\lib\\site-packages\\mir_eval\\transcription_velocity.py:185: FutureWarning: `rcond` parameter will change to the default of machine precision times ``max(M, N)`` where M and N are the input matrix dimensions.\n",
      "To use the future default and silence this warning we advise to pass `rcond=None`, to keep using the old, explicitly pass `rcond=-1`.\n",
      "  ref_matched_velocities)[0]\n"
     ]
    },
    {
     "name": "stdout",
     "output_type": "stream",
     "text": [
      "\t11 of 16\n",
      "16/16 [==============================] - 1s 50ms/step\n",
      "16/16 [==============================] - 0s 28ms/step\n",
      "16/16 [==============================] - 0s 17ms/step\n",
      "16/16 [==============================] - 0s 27ms/step\n"
     ]
    },
    {
     "name": "stderr",
     "output_type": "stream",
     "text": [
      "C:\\Users\\Evgeniy\\Anaconda3\\lib\\site-packages\\mir_eval\\transcription_velocity.py:185: FutureWarning: `rcond` parameter will change to the default of machine precision times ``max(M, N)`` where M and N are the input matrix dimensions.\n",
      "To use the future default and silence this warning we advise to pass `rcond=None`, to keep using the old, explicitly pass `rcond=-1`.\n",
      "  ref_matched_velocities)[0]\n"
     ]
    },
    {
     "name": "stdout",
     "output_type": "stream",
     "text": [
      "\t12 of 16\n",
      "9/9 [==============================] - 0s 36ms/step\n",
      "9/9 [==============================] - 0s 37ms/step\n",
      "9/9 [==============================] - 0s 17ms/step\n",
      "9/9 [==============================] - 0s 34ms/step\n"
     ]
    },
    {
     "name": "stderr",
     "output_type": "stream",
     "text": [
      "C:\\Users\\Evgeniy\\Anaconda3\\lib\\site-packages\\mir_eval\\transcription_velocity.py:185: FutureWarning: `rcond` parameter will change to the default of machine precision times ``max(M, N)`` where M and N are the input matrix dimensions.\n",
      "To use the future default and silence this warning we advise to pass `rcond=None`, to keep using the old, explicitly pass `rcond=-1`.\n",
      "  ref_matched_velocities)[0]\n"
     ]
    },
    {
     "name": "stdout",
     "output_type": "stream",
     "text": [
      "\t13 of 16\n",
      "27/27 [==============================] - 1s 30ms/step\n",
      "27/27 [==============================] - 1s 30ms/step\n",
      "27/27 [==============================] - 0s 17ms/step\n",
      "27/27 [==============================] - 1s 29ms/step\n"
     ]
    },
    {
     "name": "stderr",
     "output_type": "stream",
     "text": [
      "C:\\Users\\Evgeniy\\Anaconda3\\lib\\site-packages\\mir_eval\\transcription_velocity.py:185: FutureWarning: `rcond` parameter will change to the default of machine precision times ``max(M, N)`` where M and N are the input matrix dimensions.\n",
      "To use the future default and silence this warning we advise to pass `rcond=None`, to keep using the old, explicitly pass `rcond=-1`.\n",
      "  ref_matched_velocities)[0]\n"
     ]
    },
    {
     "name": "stdout",
     "output_type": "stream",
     "text": [
      "\t14 of 16\n",
      "80/80 [==============================] - 2s 29ms/step\n",
      "80/80 [==============================] - 2s 29ms/step\n",
      "80/80 [==============================] - 1s 17ms/step\n",
      "80/80 [==============================] - 2s 27ms/step\n"
     ]
    },
    {
     "name": "stderr",
     "output_type": "stream",
     "text": [
      "C:\\Users\\Evgeniy\\Anaconda3\\lib\\site-packages\\mir_eval\\transcription_velocity.py:185: FutureWarning: `rcond` parameter will change to the default of machine precision times ``max(M, N)`` where M and N are the input matrix dimensions.\n",
      "To use the future default and silence this warning we advise to pass `rcond=None`, to keep using the old, explicitly pass `rcond=-1`.\n",
      "  ref_matched_velocities)[0]\n"
     ]
    },
    {
     "name": "stdout",
     "output_type": "stream",
     "text": [
      "\t15 of 16\n",
      "82/82 [==============================] - 3s 33ms/step\n",
      "82/82 [==============================] - 2s 30ms/step\n",
      "82/82 [==============================] - 1s 17ms/step\n",
      "82/82 [==============================] - 2s 29ms/step\n"
     ]
    },
    {
     "name": "stderr",
     "output_type": "stream",
     "text": [
      "C:\\Users\\Evgeniy\\Anaconda3\\lib\\site-packages\\mir_eval\\transcription_velocity.py:185: FutureWarning: `rcond` parameter will change to the default of machine precision times ``max(M, N)`` where M and N are the input matrix dimensions.\n",
      "To use the future default and silence this warning we advise to pass `rcond=None`, to keep using the old, explicitly pass `rcond=-1`.\n",
      "  ref_matched_velocities)[0]\n"
     ]
    },
    {
     "name": "stdout",
     "output_type": "stream",
     "text": [
      "\t16 of 16\n",
      "36/36 [==============================] - 1s 38ms/step\n",
      "36/36 [==============================] - 1s 32ms/step\n",
      "36/36 [==============================] - 1s 17ms/step\n",
      "36/36 [==============================] - 1s 29ms/step\n"
     ]
    },
    {
     "name": "stderr",
     "output_type": "stream",
     "text": [
      "C:\\Users\\Evgeniy\\Anaconda3\\lib\\site-packages\\mir_eval\\transcription_velocity.py:185: FutureWarning: `rcond` parameter will change to the default of machine precision times ``max(M, N)`` where M and N are the input matrix dimensions.\n",
      "To use the future default and silence this warning we advise to pass `rcond=None`, to keep using the old, explicitly pass `rcond=-1`.\n",
      "  ref_matched_velocities)[0]\n"
     ]
    },
    {
     "name": "stdout",
     "output_type": "stream",
     "text": [
      "\n",
      "Onsets: \n",
      "Precision (specificity) = 89.96%\n",
      "Recall    (sensitivity) = 92.88%\n",
      "F1-score                = 91.34%\n",
      "\n",
      "Frames: \n",
      "Precision (specificity) = 70.75%\n",
      "Recall    (sensitivity) = 73.00%\n",
      "F1-score                = 71.81%\n",
      "\n",
      "Volumes:\n",
      "Precision (specificity) = 68.30%\n",
      "Recall    (sensitivity) = 70.46%\n",
      "F1-score                = 69.32%\n",
      "\n",
      "Actual and predicted average number of onsets: 1.63 1.61\n",
      "Predicts less notes than actual (specific classifier)\n",
      "\n",
      "Maestro/1-5 seconds/test\\2015\n",
      "\t1 of 10\n",
      "15/15 [==============================] - 1s 56ms/step\n",
      "15/15 [==============================] - 0s 29ms/step\n",
      "15/15 [==============================] - 0s 17ms/step\n",
      "15/15 [==============================] - 0s 28ms/step\n"
     ]
    },
    {
     "name": "stderr",
     "output_type": "stream",
     "text": [
      "C:\\Users\\Evgeniy\\Anaconda3\\lib\\site-packages\\mir_eval\\transcription_velocity.py:185: FutureWarning: `rcond` parameter will change to the default of machine precision times ``max(M, N)`` where M and N are the input matrix dimensions.\n",
      "To use the future default and silence this warning we advise to pass `rcond=None`, to keep using the old, explicitly pass `rcond=-1`.\n",
      "  ref_matched_velocities)[0]\n"
     ]
    },
    {
     "name": "stdout",
     "output_type": "stream",
     "text": [
      "\t2 of 10\n",
      "25/25 [==============================] - 1s 31ms/step\n",
      "25/25 [==============================] - 1s 31ms/step\n",
      "25/25 [==============================] - 0s 17ms/step\n",
      "25/25 [==============================] - 1s 30ms/step\n"
     ]
    },
    {
     "name": "stderr",
     "output_type": "stream",
     "text": [
      "C:\\Users\\Evgeniy\\Anaconda3\\lib\\site-packages\\mir_eval\\transcription_velocity.py:185: FutureWarning: `rcond` parameter will change to the default of machine precision times ``max(M, N)`` where M and N are the input matrix dimensions.\n",
      "To use the future default and silence this warning we advise to pass `rcond=None`, to keep using the old, explicitly pass `rcond=-1`.\n",
      "  ref_matched_velocities)[0]\n"
     ]
    },
    {
     "name": "stdout",
     "output_type": "stream",
     "text": [
      "\t3 of 10\n",
      "6/6 [==============================] - 0s 45ms/step\n",
      "6/6 [==============================] - 0s 46ms/step\n",
      "6/6 [==============================] - 0s 17ms/step\n",
      "6/6 [==============================] - 0s 42ms/step\n"
     ]
    },
    {
     "name": "stderr",
     "output_type": "stream",
     "text": [
      "C:\\Users\\Evgeniy\\Anaconda3\\lib\\site-packages\\mir_eval\\transcription_velocity.py:185: FutureWarning: `rcond` parameter will change to the default of machine precision times ``max(M, N)`` where M and N are the input matrix dimensions.\n",
      "To use the future default and silence this warning we advise to pass `rcond=None`, to keep using the old, explicitly pass `rcond=-1`.\n",
      "  ref_matched_velocities)[0]\n"
     ]
    },
    {
     "name": "stdout",
     "output_type": "stream",
     "text": [
      "\t4 of 10\n",
      "7/7 [==============================] - 0s 41ms/step\n",
      "7/7 [==============================] - 0s 42ms/step\n",
      "7/7 [==============================] - 0s 17ms/step\n",
      "7/7 [==============================] - 0s 39ms/step\n"
     ]
    },
    {
     "name": "stderr",
     "output_type": "stream",
     "text": [
      "C:\\Users\\Evgeniy\\Anaconda3\\lib\\site-packages\\mir_eval\\transcription_velocity.py:185: FutureWarning: `rcond` parameter will change to the default of machine precision times ``max(M, N)`` where M and N are the input matrix dimensions.\n",
      "To use the future default and silence this warning we advise to pass `rcond=None`, to keep using the old, explicitly pass `rcond=-1`.\n",
      "  ref_matched_velocities)[0]\n"
     ]
    },
    {
     "name": "stdout",
     "output_type": "stream",
     "text": [
      "\t5 of 10\n",
      "6/6 [==============================] - 0s 44ms/step\n",
      "6/6 [==============================] - 0s 46ms/step\n",
      "6/6 [==============================] - 0s 17ms/step\n",
      "6/6 [==============================] - 0s 42ms/step\n"
     ]
    },
    {
     "name": "stderr",
     "output_type": "stream",
     "text": [
      "C:\\Users\\Evgeniy\\Anaconda3\\lib\\site-packages\\mir_eval\\transcription_velocity.py:185: FutureWarning: `rcond` parameter will change to the default of machine precision times ``max(M, N)`` where M and N are the input matrix dimensions.\n",
      "To use the future default and silence this warning we advise to pass `rcond=None`, to keep using the old, explicitly pass `rcond=-1`.\n",
      "  ref_matched_velocities)[0]\n"
     ]
    },
    {
     "name": "stdout",
     "output_type": "stream",
     "text": [
      "\t6 of 10\n",
      "18/18 [==============================] - 1s 36ms/step\n",
      "18/18 [==============================] - 1s 36ms/step\n",
      "18/18 [==============================] - 0s 17ms/step\n",
      "18/18 [==============================] - 1s 33ms/step\n"
     ]
    },
    {
     "name": "stderr",
     "output_type": "stream",
     "text": [
      "C:\\Users\\Evgeniy\\Anaconda3\\lib\\site-packages\\mir_eval\\transcription_velocity.py:185: FutureWarning: `rcond` parameter will change to the default of machine precision times ``max(M, N)`` where M and N are the input matrix dimensions.\n",
      "To use the future default and silence this warning we advise to pass `rcond=None`, to keep using the old, explicitly pass `rcond=-1`.\n",
      "  ref_matched_velocities)[0]\n"
     ]
    },
    {
     "name": "stdout",
     "output_type": "stream",
     "text": [
      "\t7 of 10\n",
      "18/18 [==============================] - 1s 36ms/step\n",
      "18/18 [==============================] - 1s 37ms/step\n",
      "18/18 [==============================] - 0s 17ms/step\n",
      "18/18 [==============================] - 1s 34ms/step\n"
     ]
    },
    {
     "name": "stderr",
     "output_type": "stream",
     "text": [
      "C:\\Users\\Evgeniy\\Anaconda3\\lib\\site-packages\\mir_eval\\transcription_velocity.py:185: FutureWarning: `rcond` parameter will change to the default of machine precision times ``max(M, N)`` where M and N are the input matrix dimensions.\n",
      "To use the future default and silence this warning we advise to pass `rcond=None`, to keep using the old, explicitly pass `rcond=-1`.\n",
      "  ref_matched_velocities)[0]\n"
     ]
    },
    {
     "name": "stdout",
     "output_type": "stream",
     "text": [
      "\t8 of 10\n",
      "37/37 [==============================] - 1s 32ms/step\n",
      "37/37 [==============================] - 1s 31ms/step\n",
      "37/37 [==============================] - 1s 17ms/step\n",
      "37/37 [==============================] - 1s 29ms/step\n"
     ]
    },
    {
     "name": "stderr",
     "output_type": "stream",
     "text": [
      "C:\\Users\\Evgeniy\\Anaconda3\\lib\\site-packages\\mir_eval\\transcription_velocity.py:185: FutureWarning: `rcond` parameter will change to the default of machine precision times ``max(M, N)`` where M and N are the input matrix dimensions.\n",
      "To use the future default and silence this warning we advise to pass `rcond=None`, to keep using the old, explicitly pass `rcond=-1`.\n",
      "  ref_matched_velocities)[0]\n"
     ]
    },
    {
     "name": "stdout",
     "output_type": "stream",
     "text": [
      "\t9 of 10\n",
      "19/19 [==============================] - 1s 35ms/step\n",
      "19/19 [==============================] - 1s 35ms/step\n",
      "19/19 [==============================] - 0s 17ms/step\n",
      "19/19 [==============================] - 1s 34ms/step\n"
     ]
    },
    {
     "name": "stderr",
     "output_type": "stream",
     "text": [
      "C:\\Users\\Evgeniy\\Anaconda3\\lib\\site-packages\\mir_eval\\transcription_velocity.py:185: FutureWarning: `rcond` parameter will change to the default of machine precision times ``max(M, N)`` where M and N are the input matrix dimensions.\n",
      "To use the future default and silence this warning we advise to pass `rcond=None`, to keep using the old, explicitly pass `rcond=-1`.\n",
      "  ref_matched_velocities)[0]\n"
     ]
    },
    {
     "name": "stdout",
     "output_type": "stream",
     "text": [
      "\t10 of 10\n",
      "15/15 [==============================] - 0s 29ms/step\n",
      "15/15 [==============================] - 0s 29ms/step\n",
      "15/15 [==============================] - 0s 17ms/step\n",
      "15/15 [==============================] - 0s 27ms/step\n"
     ]
    },
    {
     "name": "stderr",
     "output_type": "stream",
     "text": [
      "C:\\Users\\Evgeniy\\Anaconda3\\lib\\site-packages\\mir_eval\\transcription_velocity.py:185: FutureWarning: `rcond` parameter will change to the default of machine precision times ``max(M, N)`` where M and N are the input matrix dimensions.\n",
      "To use the future default and silence this warning we advise to pass `rcond=None`, to keep using the old, explicitly pass `rcond=-1`.\n",
      "  ref_matched_velocities)[0]\n"
     ]
    },
    {
     "name": "stdout",
     "output_type": "stream",
     "text": [
      "\n",
      "Onsets: \n",
      "Precision (specificity) = 81.63%\n",
      "Recall    (sensitivity) = 92.52%\n",
      "F1-score                = 86.48%\n",
      "\n",
      "Frames: \n",
      "Precision (specificity) = 70.96%\n",
      "Recall    (sensitivity) = 80.17%\n",
      "F1-score                = 75.06%\n",
      "\n",
      "Volumes:\n",
      "Precision (specificity) = 66.75%\n",
      "Recall    (sensitivity) = 75.42%\n",
      "F1-score                = 70.61%\n",
      "\n",
      "Actual and predicted average number of onsets: 1.71 1.68\n",
      "Predicts less notes than actual (specific classifier)\n",
      "\n",
      "Maestro/1-5 seconds/test\\2017\n",
      "\t1 of 14\n",
      "23/23 [==============================] - 1s 43ms/step\n",
      "23/23 [==============================] - 1s 32ms/step\n",
      "23/23 [==============================] - 0s 17ms/step\n",
      "23/23 [==============================] - 1s 30ms/step\n"
     ]
    },
    {
     "name": "stderr",
     "output_type": "stream",
     "text": [
      "C:\\Users\\Evgeniy\\Anaconda3\\lib\\site-packages\\mir_eval\\transcription_velocity.py:185: FutureWarning: `rcond` parameter will change to the default of machine precision times ``max(M, N)`` where M and N are the input matrix dimensions.\n",
      "To use the future default and silence this warning we advise to pass `rcond=None`, to keep using the old, explicitly pass `rcond=-1`.\n",
      "  ref_matched_velocities)[0]\n"
     ]
    },
    {
     "name": "stdout",
     "output_type": "stream",
     "text": [
      "\t2 of 14\n",
      "24/24 [==============================] - 1s 32ms/step\n",
      "24/24 [==============================] - 1s 32ms/step\n",
      "24/24 [==============================] - 0s 17ms/step\n",
      "24/24 [==============================] - 1s 30ms/step\n"
     ]
    },
    {
     "name": "stderr",
     "output_type": "stream",
     "text": [
      "C:\\Users\\Evgeniy\\Anaconda3\\lib\\site-packages\\mir_eval\\transcription_velocity.py:185: FutureWarning: `rcond` parameter will change to the default of machine precision times ``max(M, N)`` where M and N are the input matrix dimensions.\n",
      "To use the future default and silence this warning we advise to pass `rcond=None`, to keep using the old, explicitly pass `rcond=-1`.\n",
      "  ref_matched_velocities)[0]\n"
     ]
    },
    {
     "name": "stdout",
     "output_type": "stream",
     "text": [
      "\t3 of 14\n",
      "11/11 [==============================] - 0s 33ms/step\n",
      "11/11 [==============================] - 0s 33ms/step\n",
      "11/11 [==============================] - 0s 16ms/step\n",
      "11/11 [==============================] - 0s 31ms/step\n"
     ]
    },
    {
     "name": "stderr",
     "output_type": "stream",
     "text": [
      "C:\\Users\\Evgeniy\\Anaconda3\\lib\\site-packages\\mir_eval\\transcription_velocity.py:185: FutureWarning: `rcond` parameter will change to the default of machine precision times ``max(M, N)`` where M and N are the input matrix dimensions.\n",
      "To use the future default and silence this warning we advise to pass `rcond=None`, to keep using the old, explicitly pass `rcond=-1`.\n",
      "  ref_matched_velocities)[0]\n"
     ]
    },
    {
     "name": "stdout",
     "output_type": "stream",
     "text": [
      "\t4 of 14\n",
      "7/7 [==============================] - 0s 42ms/step\n",
      "7/7 [==============================] - 0s 42ms/step\n",
      "7/7 [==============================] - 0s 17ms/step\n",
      "7/7 [==============================] - 0s 38ms/step\n"
     ]
    },
    {
     "name": "stderr",
     "output_type": "stream",
     "text": [
      "C:\\Users\\Evgeniy\\Anaconda3\\lib\\site-packages\\mir_eval\\transcription_velocity.py:185: FutureWarning: `rcond` parameter will change to the default of machine precision times ``max(M, N)`` where M and N are the input matrix dimensions.\n",
      "To use the future default and silence this warning we advise to pass `rcond=None`, to keep using the old, explicitly pass `rcond=-1`.\n",
      "  ref_matched_velocities)[0]\n"
     ]
    },
    {
     "name": "stdout",
     "output_type": "stream",
     "text": [
      "\t5 of 14\n",
      "16/16 [==============================] - 0s 28ms/step\n",
      "16/16 [==============================] - 0s 28ms/step\n",
      "16/16 [==============================] - 0s 17ms/step\n",
      "16/16 [==============================] - 0s 27ms/step\n"
     ]
    },
    {
     "name": "stderr",
     "output_type": "stream",
     "text": [
      "C:\\Users\\Evgeniy\\Anaconda3\\lib\\site-packages\\mir_eval\\transcription_velocity.py:185: FutureWarning: `rcond` parameter will change to the default of machine precision times ``max(M, N)`` where M and N are the input matrix dimensions.\n",
      "To use the future default and silence this warning we advise to pass `rcond=None`, to keep using the old, explicitly pass `rcond=-1`.\n",
      "  ref_matched_velocities)[0]\n"
     ]
    },
    {
     "name": "stdout",
     "output_type": "stream",
     "text": [
      "\t6 of 14\n",
      "34/34 [==============================] - 1s 32ms/step\n",
      "34/34 [==============================] - 1s 33ms/step\n",
      "34/34 [==============================] - 1s 17ms/step\n",
      "34/34 [==============================] - 1s 30ms/step\n"
     ]
    },
    {
     "name": "stderr",
     "output_type": "stream",
     "text": [
      "C:\\Users\\Evgeniy\\Anaconda3\\lib\\site-packages\\mir_eval\\transcription_velocity.py:185: FutureWarning: `rcond` parameter will change to the default of machine precision times ``max(M, N)`` where M and N are the input matrix dimensions.\n",
      "To use the future default and silence this warning we advise to pass `rcond=None`, to keep using the old, explicitly pass `rcond=-1`.\n",
      "  ref_matched_velocities)[0]\n"
     ]
    },
    {
     "name": "stdout",
     "output_type": "stream",
     "text": [
      "\t7 of 14\n",
      "18/18 [==============================] - 1s 36ms/step\n",
      "18/18 [==============================] - 1s 36ms/step\n",
      "18/18 [==============================] - 0s 17ms/step\n",
      "18/18 [==============================] - 1s 34ms/step\n"
     ]
    },
    {
     "name": "stderr",
     "output_type": "stream",
     "text": [
      "C:\\Users\\Evgeniy\\Anaconda3\\lib\\site-packages\\mir_eval\\transcription_velocity.py:185: FutureWarning: `rcond` parameter will change to the default of machine precision times ``max(M, N)`` where M and N are the input matrix dimensions.\n",
      "To use the future default and silence this warning we advise to pass `rcond=None`, to keep using the old, explicitly pass `rcond=-1`.\n",
      "  ref_matched_velocities)[0]\n"
     ]
    },
    {
     "name": "stdout",
     "output_type": "stream",
     "text": [
      "\t8 of 14\n",
      "16/16 [==============================] - 0s 28ms/step\n",
      "16/16 [==============================] - 0s 28ms/step\n",
      "16/16 [==============================] - 0s 17ms/step\n",
      "16/16 [==============================] - 0s 27ms/step\n"
     ]
    },
    {
     "name": "stderr",
     "output_type": "stream",
     "text": [
      "C:\\Users\\Evgeniy\\Anaconda3\\lib\\site-packages\\mir_eval\\transcription_velocity.py:185: FutureWarning: `rcond` parameter will change to the default of machine precision times ``max(M, N)`` where M and N are the input matrix dimensions.\n",
      "To use the future default and silence this warning we advise to pass `rcond=None`, to keep using the old, explicitly pass `rcond=-1`.\n",
      "  ref_matched_velocities)[0]\n"
     ]
    },
    {
     "name": "stdout",
     "output_type": "stream",
     "text": [
      "\t9 of 14\n",
      "22/22 [==============================] - 1s 33ms/step\n",
      "22/22 [==============================] - 1s 33ms/step\n",
      "22/22 [==============================] - 0s 17ms/step\n",
      "22/22 [==============================] - 1s 32ms/step\n"
     ]
    },
    {
     "name": "stderr",
     "output_type": "stream",
     "text": [
      "C:\\Users\\Evgeniy\\Anaconda3\\lib\\site-packages\\mir_eval\\transcription_velocity.py:185: FutureWarning: `rcond` parameter will change to the default of machine precision times ``max(M, N)`` where M and N are the input matrix dimensions.\n",
      "To use the future default and silence this warning we advise to pass `rcond=None`, to keep using the old, explicitly pass `rcond=-1`.\n",
      "  ref_matched_velocities)[0]\n"
     ]
    },
    {
     "name": "stdout",
     "output_type": "stream",
     "text": [
      "\t10 of 14\n",
      "18/18 [==============================] - 1s 36ms/step\n",
      "18/18 [==============================] - 1s 36ms/step\n",
      "18/18 [==============================] - 0s 17ms/step\n",
      "18/18 [==============================] - 1s 33ms/step\n"
     ]
    },
    {
     "name": "stderr",
     "output_type": "stream",
     "text": [
      "C:\\Users\\Evgeniy\\Anaconda3\\lib\\site-packages\\mir_eval\\transcription_velocity.py:185: FutureWarning: `rcond` parameter will change to the default of machine precision times ``max(M, N)`` where M and N are the input matrix dimensions.\n",
      "To use the future default and silence this warning we advise to pass `rcond=None`, to keep using the old, explicitly pass `rcond=-1`.\n",
      "  ref_matched_velocities)[0]\n"
     ]
    },
    {
     "name": "stdout",
     "output_type": "stream",
     "text": [
      "\t11 of 14\n",
      "46/46 [==============================] - 1s 29ms/step\n",
      "46/46 [==============================] - 1s 29ms/step\n",
      "46/46 [==============================] - 1s 17ms/step\n",
      "46/46 [==============================] - 1s 28ms/step\n"
     ]
    },
    {
     "name": "stderr",
     "output_type": "stream",
     "text": [
      "C:\\Users\\Evgeniy\\Anaconda3\\lib\\site-packages\\mir_eval\\transcription_velocity.py:185: FutureWarning: `rcond` parameter will change to the default of machine precision times ``max(M, N)`` where M and N are the input matrix dimensions.\n",
      "To use the future default and silence this warning we advise to pass `rcond=None`, to keep using the old, explicitly pass `rcond=-1`.\n",
      "  ref_matched_velocities)[0]\n"
     ]
    },
    {
     "name": "stdout",
     "output_type": "stream",
     "text": [
      "\t12 of 14\n",
      "28/28 [==============================] - 1s 30ms/step\n",
      "28/28 [==============================] - 1s 30ms/step\n",
      "28/28 [==============================] - 0s 17ms/step\n",
      "28/28 [==============================] - 1s 29ms/step\n"
     ]
    },
    {
     "name": "stderr",
     "output_type": "stream",
     "text": [
      "C:\\Users\\Evgeniy\\Anaconda3\\lib\\site-packages\\mir_eval\\transcription_velocity.py:185: FutureWarning: `rcond` parameter will change to the default of machine precision times ``max(M, N)`` where M and N are the input matrix dimensions.\n",
      "To use the future default and silence this warning we advise to pass `rcond=None`, to keep using the old, explicitly pass `rcond=-1`.\n",
      "  ref_matched_velocities)[0]\n"
     ]
    },
    {
     "name": "stdout",
     "output_type": "stream",
     "text": [
      "\t13 of 14\n",
      "34/34 [==============================] - 1s 33ms/step\n",
      "34/34 [==============================] - 1s 33ms/step\n",
      "34/34 [==============================] - 1s 17ms/step\n",
      "34/34 [==============================] - 1s 31ms/step\n"
     ]
    },
    {
     "name": "stderr",
     "output_type": "stream",
     "text": [
      "C:\\Users\\Evgeniy\\Anaconda3\\lib\\site-packages\\mir_eval\\transcription_velocity.py:185: FutureWarning: `rcond` parameter will change to the default of machine precision times ``max(M, N)`` where M and N are the input matrix dimensions.\n",
      "To use the future default and silence this warning we advise to pass `rcond=None`, to keep using the old, explicitly pass `rcond=-1`.\n",
      "  ref_matched_velocities)[0]\n"
     ]
    },
    {
     "name": "stdout",
     "output_type": "stream",
     "text": [
      "\t14 of 14\n",
      "61/61 [==============================] - 2s 29ms/step\n",
      "61/61 [==============================] - 2s 29ms/step\n",
      "61/61 [==============================] - 1s 17ms/step\n",
      "61/61 [==============================] - 2s 28ms/step\n",
      "\n",
      "Onsets: \n",
      "Precision (specificity) = 87.06%\n",
      "Recall    (sensitivity) = 93.44%\n",
      "F1-score                = 90.05%\n",
      "\n",
      "Frames: \n",
      "Precision (specificity) = 74.81%\n",
      "Recall    (sensitivity) = 80.12%\n",
      "F1-score                = 77.30%\n",
      "\n",
      "Volumes:\n",
      "Precision (specificity) = 71.65%\n",
      "Recall    (sensitivity) = 76.72%\n",
      "F1-score                = 74.03%\n",
      "\n",
      "Actual and predicted average number of onsets: 1.72 1.67\n",
      "Predicts less notes than actual (specific classifier)\n",
      "\n"
     ]
    },
    {
     "name": "stderr",
     "output_type": "stream",
     "text": [
      "C:\\Users\\Evgeniy\\Anaconda3\\lib\\site-packages\\mir_eval\\transcription_velocity.py:185: FutureWarning: `rcond` parameter will change to the default of machine precision times ``max(M, N)`` where M and N are the input matrix dimensions.\n",
      "To use the future default and silence this warning we advise to pass `rcond=None`, to keep using the old, explicitly pass `rcond=-1`.\n",
      "  ref_matched_velocities)[0]\n"
     ]
    }
   ],
   "source": [
    "fps = 16_000 / 512\n",
    "onsetsModel, offsetsModel, activesModel, volumesModel = map(lambda name: load_model('Magenta {}.hdf5'.format(\n",
    "    name), compile=False), ['Onsets 67.74', 'Offsets 44.52', 'Frame 76.97', 'Velocity 93.42'])\n",
    "\n",
    "for mels, onsetsTrue, offsetsTrue, activesTrue, volumesTrue in zip(*(glob(\n",
    "#        '{}/test/*{}.npy'.format(dataFolder, name)) for name in ['Mels', 'Onsets', 'Offsets', 'Actives', 'Volumes'])):\n",
    "        'Maestro/1-5 seconds/test/*{}.npy'.format(name)) for name in ['Mels', 'Onsets', 'Offsets', 'Actives', 'Volumes'])):\n",
    "    print(' '.join(mels.split()[:-1]))\n",
    "    mels, onsetsTrue, offsetsTrue, activesTrue, volumesTrue = map(lambda arr: np.load(\n",
    "        arr, allow_pickle=True), [mels, onsetsTrue, offsetsTrue, activesTrue, volumesTrue])\n",
    "    \n",
    "    ps, rs, f1s, offPs, offRs, offF1s, volsPs, volsRs, volsF1s = [], [], [], [], [], [], [], [], []\n",
    "    onTrueAll, onPredAll, onProbAll, offProbAll, actProbAll, volProbAll = None, None, [], [], [], []\n",
    "    for i, [m, onTrue, offTrue, actTrue, volTrue] in enumerate(zip(mels, onsetsTrue, offsetsTrue, activesTrue, volumesTrue)):\n",
    "        print('\\t{} of {}'.format(i + 1, len(onsetsTrue)))\n",
    "\n",
    "        m, onTrue, offTrue, actTrue, volTrue = map(np.array, [m, onTrue, offTrue, actTrue, volTrue])\n",
    "        refIntervals, refPitches, refVolumes = sequence_to_valued_intervals(pianoroll_to_note_sequence(\n",
    "            actTrue, fps, 0, onset_predictions=onTrue, offset_predictions=offTrue, velocity_values=volTrue), 0)\n",
    "\n",
    "        m = np.pad(m, [(0, -len(m) % melsVal.shape[1]), (0, 0)], 'minimum').reshape((-1, melsVal.shape[1], melsVal.shape[2]))\n",
    "        onProb, offProb, volProb = map(lambda mod: mod.predict(m, 16, 1), [onsetsModel, offsetsModel, volumesModel])\n",
    "        actProb = activesModel.predict([onProb, m, offProb], 16, 1)\n",
    "\n",
    "        onProb, offProb, actProb, volProb = map(lambda arr: np.vstack(\n",
    "            arr)[:len(actTrue)], [onProb, offProb, actProb, volProb])\n",
    "        onPred, offPred, actPred = map(lambda arr: binarize(arr, .5), [onProb, offProb, actProb])\n",
    "        onTrueAll, onPredAll = map(lambda arr, newArr: newArr if arr is None else\n",
    "            np.vstack([arr, newArr]), [onTrueAll, onPredAll], [onTrue, onPred])\n",
    "\n",
    "        estIntervals, estPitches, estVolumes = sequence_to_valued_intervals(pianoroll_to_note_sequence(\n",
    "            actPred, fps, 0, onset_predictions=onPred, offset_predictions=offPred, velocity_values=volProb), 0)\n",
    "        refPitches, estPitches = map(lambda ps: midi_to_hz(ps + 21), [refPitches, estPitches])\n",
    "\n",
    "        p, r, f1, offP, offR, offF1, volsP, volsR, volsF1 = Overlap(refIntervals, refPitches, estIntervals, estPitches,\n",
    "                                  offset_ratio=None)[:-1] + Overlap(refIntervals, refPitches, estIntervals, estPitches)[:-1] \\\n",
    "                           + OverlapVolumes(refIntervals, refPitches, refVolumes, estIntervals, estPitches, estVolumes)[:-1]\n",
    "        ps, rs, f1s, offPs, offRs, offF1s, volsPs, volsRs, volsF1s = ps + [p], rs + [r], f1s + [f1], \\\n",
    "            offPs + [offP], offRs + [offR], offF1s + [offF1], volsPs + [volsP], volsRs + [volsR], volsF1s + [volsF1]\n",
    "    \n",
    "    print('\\nOnsets: \\nPrecision (specificity) = {:.2%}\\nRecall    (sensitivity) = {:.2%}\\nF1-score                = {:.2%}\\n\\n'\n",
    "            'Frames: \\nPrecision (specificity) = {:.2%}\\nRecall    (sensitivity) = {:.2%}\\nF1-score                = {:.2%}\\n\\n'\n",
    "            'Volumes:\\nPrecision (specificity) = {:.2%}\\nRecall    (sensitivity) = {:.2%}\\nF1-score                = {:.2%}\\n'\n",
    "          .format(np.mean(ps), np.mean(rs), np.mean(f1s), np.mean(offPs), np.mean(offRs), np.mean(offF1s),\n",
    "                  np.mean(volsPs), np.mean(volsRs), np.mean(volsF1s)))\n",
    "\n",
    "    numOnsetsTrue, numOnsetsPred = map(lambda arr: arr.sum(1), [onTrueAll, onPredAll])\n",
    "    numOnsetsTrue, numOnsetsPred = map(lambda arr: arr.sum() / len(np.nonzero(arr)[0]), [numOnsetsTrue, numOnsetsPred])\n",
    "    print('Actual and predicted average number of onsets: {:.2f} {:.2f}'.format(numOnsetsTrue, numOnsetsPred))\n",
    "    print('Predicts',                'more' if numOnsetsPred > numOnsetsTrue else 'less',\n",
    "          'notes than actual', '(sensitive' if numOnsetsPred > numOnsetsTrue else '(specific', 'classifier)\\n')\n",
    "    assert abs(numOnsetsTrue - numOnsetsPred) < .1"
   ]
  },
  {
   "cell_type": "code",
   "execution_count": 9,
   "metadata": {
    "scrolled": false
   },
   "outputs": [
    {
     "data": {
      "image/png": "[encoded data removed]",
      "text/plain": [
       "<Figure size 1152x288 with 3 Axes>"
      ]
     },
     "metadata": {
      "image/png": {
       "height": 277,
       "width": 931
      },
      "needs_background": "light"
     },
     "output_type": "display_data"
    }
   ],
   "source": [
    "mels2014, onTrue2014, offTrue2014, actTrue2014, volTrue2014 = map(lambda name: np.vstack(np.load(\n",
    "#    '{}/test/2014/MIDI-UNPROCESSED_19-20_R1_2014_MID--AUDIO_20_R1_2014_wav--2 {}.npy'.format(dataFolder, name),\n",
    "    'Maestro/1-5 seconds/test/2014/MIDI-UNPROCESSED_19-20_R1_2014_MID--AUDIO_20_R1_2014_wav--2 {}.npy'.format(name),\n",
    "    allow_pickle=True)), ['Mels', 'Onsets', 'Offsets', 'Actives', 'Volumes'])\n",
    "\n",
    "mels2014 = np.pad(mels2014, [(0, -len(mels2014) % melsVal.shape[1]), (0, 0)],\n",
    "                  'minimum').reshape((-1, melsVal.shape[1], melsVal.shape[2]))\n",
    "onProb2014, offProb2014, volProb2014 = map(lambda mod: mod.predict(mels2014, 16, 1), [onsetsModel, offsetsModel, volumesModel])\n",
    "actProb2014 = activesModel.predict([onProb2014, mels2014, offProb2014], 16, 1)\n",
    "onProb2014, offProb2014, actProb2014, volProb2014 = map(lambda arr: np.vstack(\n",
    "    arr)[:len(actTrue2014)], [onProb2014, offProb2014, actProb2014, volProb2014])\n",
    "\n",
    "def VolumesF1(onPred, offPred, actPred):\n",
    "    refIntervals, refPitches, refVolumes, estIntervals, estPitches, estVolumes = sequence_to_valued_intervals(\n",
    "        pianoroll_to_note_sequence(actTrue2014, fps, 0, onset_predictions=onTrue2014, offset_predictions=offTrue2014,\n",
    "            velocity_values=volTrue2014), 0) + sequence_to_valued_intervals(pianoroll_to_note_sequence(\n",
    "        actPred, fps, 0, onset_predictions=onPred, offset_predictions=offPred, velocity_values=volProb2014), 0)\n",
    "    refPitches, estPitches = map(lambda ps: midi_to_hz(ps + 21), [refPitches, estPitches])\n",
    "    return OverlapVolumes(refIntervals, refPitches, refVolumes, estIntervals, estPitches, estVolumes)[2]\n",
    "\n",
    "\n",
    "precision = 10\n",
    "th = [i / precision for i in range(precision + 1)]\n",
    "acc = [0] + [VolumesF1(*map(lambda arr: binarize(arr, t), [onProb2014, offProb2014, actProb2014])) for t in th[1:]]\n",
    "\n",
    "plt.figure(figsize=(16, 4))\n",
    "plt.subplot(1, 3, 1)\n",
    "\n",
    "plt.plot(th, acc, linewidth=3)\n",
    "plt.title('Max Overlap Accuracy = {:.2%}'.format(max(acc)))\n",
    "plt.xlabel('Threshold')\n",
    "\n",
    "thBest = acc.index(max(acc)) / precision\n",
    "plt.vlines(thBest, 0, max(acc), 'r', label='Best threshold = ' + str(thBest), linewidth=3)\n",
    "\n",
    "plt.legend()\n",
    "plt.grid()\n",
    "\n",
    "def PlotROC(i, yTrue, yProb, name):\n",
    "    plt.subplot(1, 3, i)\n",
    "\n",
    "    fpr, tpr, ths = roc_curve(yTrue.ravel(), yProb.ravel()) # micro-average ROC curve\n",
    "    plt.plot(fpr, tpr, linewidth = 3)\n",
    "\n",
    "    plt.title(name + ' ROC curve')\n",
    "    plt.xlabel('False positive rate (1 - Specificity)')\n",
    "    plt.ylabel('True positive rate (Sensitivity)')\n",
    "\n",
    "    plt.scatter(fpr[ths > .5][-1], tpr[ths > .5][-1], s=100, c='g', marker='x',\n",
    "                linewidth=2, label='Default threshold = 0.50')\n",
    "    plt.scatter(fpr[ths > thBest][-1], tpr[ths > thBest][-1], s=100, c='r', marker='x',\n",
    "                linewidth=2, label='Best threshold = ' + str(thBest))\n",
    "\n",
    "    plt.legend()\n",
    "    plt.grid()\n",
    "    plt.text(.5, .5, 'Area = {:.2%}'.format(auc(fpr, tpr)), horizontalalignment='center', verticalalignment='center',\n",
    "             bbox={'facecolor': 'w', 'alpha': 1}, color='r'); # micro-average area under the ROC curve\n",
    "\n",
    "PlotROC(2,  onTrue2014,  onProb2014, 'Onsets')\n",
    "PlotROC(3, actTrue2014, actProb2014, 'Frames')"
   ]
  },
  {
   "cell_type": "code",
   "execution_count": 10,
   "metadata": {
    "scrolled": false
   },
   "outputs": [
    {
     "name": "stderr",
     "output_type": "stream",
     "text": [
      "C:\\Users\\Evgeniy\\Anaconda3\\lib\\site-packages\\mir_eval\\transcription_velocity.py:185: FutureWarning: `rcond` parameter will change to the default of machine precision times ``max(M, N)`` where M and N are the input matrix dimensions.\n",
      "To use the future default and silence this warning we advise to pass `rcond=None`, to keep using the old, explicitly pass `rcond=-1`.\n",
      "  ref_matched_velocities)[0]\n",
      "C:\\Users\\Evgeniy\\Anaconda3\\lib\\site-packages\\mir_eval\\transcription_velocity.py:185: FutureWarning: `rcond` parameter will change to the default of machine precision times ``max(M, N)`` where M and N are the input matrix dimensions.\n",
      "To use the future default and silence this warning we advise to pass `rcond=None`, to keep using the old, explicitly pass `rcond=-1`.\n",
      "  ref_matched_velocities)[0]\n"
     ]
    },
    {
     "data": {
      "image/png": "[encoded data removed]",
      "text/plain": [
       "<Figure size 1152x576 with 1 Axes>"
      ]
     },
     "metadata": {
      "image/png": {
       "height": 481,
       "width": 933
      },
      "needs_background": "light"
     },
     "output_type": "display_data"
    }
   ],
   "source": [
    "yPresize, yDefault = map(lambda t: binarize(onProb2014, t).astype(int), [thBest, .5])\n",
    "counts = [onTrue2014.sum(1), yDefault.sum(1), yPresize.sum(1)]\n",
    "maxCount = int(np.max(counts))\n",
    "\n",
    "plt.figure(figsize=(16, 8))\n",
    "plt.hist(counts, maxCount, rwidth=.9, log=True, label=['True distribution',\n",
    "    'Threshold = 0.5, Overlap accuracy = {:.2%} (default)'.format(        VolumesF1(\n",
    "          yDefault, binarize(offProb2014, .5),     binarize(actProb2014, .5))),\n",
    "      'Threshold = {}, Overlap accuracy = {:.2%} (best)'  .format(thBest, VolumesF1(\n",
    "          yPresize, binarize(offProb2014, thBest), binarize(actProb2014, thBest)))])\n",
    "\n",
    "plt.title('Predicted chord sizes (too many notes in a chord up to 88 - is significant error)')\n",
    "plt.xlim(0)\n",
    "plt.xticks(range(maxCount + 1))\n",
    "plt.grid(axis='x')\n",
    "plt.legend();"
   ]
  },
  {
   "cell_type": "markdown",
   "metadata": {},
   "source": [
    "# Keras model HDF5-file to JSON conversion<br>(without optimizer, for using just forward-pass predictions in C++):\n",
    "https://github.com/Dobiasd/frugally-deep/tree/master/keras_export"
   ]
  },
  {
   "cell_type": "code",
   "execution_count": 2,
   "metadata": {},
   "outputs": [
    {
     "name": "stdout",
     "output_type": "stream",
     "text": [
      "loading Magenta Onsets 67.74.hdf5\n",
      "WARNING:tensorflow:From C:\\Users\\Evgeniy\\Anaconda3\\lib\\site-packages\\tensorflow\\python\\framework\\op_def_library.py:263: colocate_with (from tensorflow.python.framework.ops) is deprecated and will be removed in a future version.\n",
      "Instructions for updating:\n",
      "Colocations handled automatically by placer.\n"
     ]
    },
    {
     "name": "stderr",
     "output_type": "stream",
     "text": [
      "C:\\Users\\Evgeniy\\Anaconda3\\lib\\site-packages\\keras\\engine\\saving.py:292: UserWarning: No training configuration found in save file: the model was *not* compiled. Compile it manually.\n",
      "  warnings.warn('No training configuration found in save file: '\n"
     ]
    },
    {
     "name": "stdout",
     "output_type": "stream",
     "text": [
      "Forward pass took 19.303515 s.\n",
      "Forward pass took 0.179831 s.\n",
      "Forward pass took 0.179759 s.\n",
      "Starting performance measurements.\n",
      "Forward pass took 0.178003 s.\n",
      "Forward pass took 0.176777 s.\n",
      "Forward pass took 0.176141 s.\n",
      "Forward pass took 0.175734 s.\n",
      "Forward pass took 0.175005 s.\n",
      "Forward pass took 0.176332 s on average.\n",
      "Converting model architecture.\n",
      "Determining Keras behaviour.\n",
      "Converting model weights.\n",
      "Done converting model weights.\n",
      "Calculating model hash.\n",
      "Model conversion finished.\n",
      "writing Magenta Onsets.json\n",
      "loading Magenta Offsets 44.52.hdf5\n",
      "Forward pass took 18.219389 s.\n",
      "Forward pass took 0.182343 s.\n",
      "Forward pass took 0.179618 s.\n",
      "Starting performance measurements.\n",
      "Forward pass took 0.175767 s.\n",
      "Forward pass took 0.181889 s.\n",
      "Forward pass took 0.196294 s.\n",
      "Forward pass took 0.182893 s.\n",
      "Forward pass took 0.177664 s.\n",
      "Forward pass took 0.1829014 s on average.\n",
      "Converting model architecture.\n",
      "Determining Keras behaviour.\n",
      "Converting model weights.\n",
      "Done converting model weights.\n",
      "Calculating model hash.\n",
      "Model conversion finished.\n",
      "writing Magenta Offsets.json\n",
      "loading Magenta Frame 76.97.hdf5\n",
      "Forward pass took 24.619217 s.\n",
      "Forward pass took 0.167175 s.\n",
      "Forward pass took 0.167261 s.\n",
      "Starting performance measurements.\n",
      "Forward pass took 0.160182 s.\n",
      "Forward pass took 0.172982 s.\n",
      "Forward pass took 0.154366 s.\n",
      "Forward pass took 0.163677 s.\n",
      "Forward pass took 0.158094 s.\n",
      "Forward pass took 0.1618602 s on average.\n",
      "Converting model architecture.\n",
      "Determining Keras behaviour.\n",
      "Converting model weights.\n",
      "Done converting model weights.\n",
      "Calculating model hash.\n",
      "Model conversion finished.\n",
      "writing Magenta Frames.json\n",
      "loading Magenta Velocity 93.42.hdf5\n",
      "Forward pass took 8.871244 s.\n",
      "Forward pass took 0.024934 s.\n",
      "Forward pass took 0.025325 s.\n",
      "Starting performance measurements.\n",
      "Forward pass took 0.026895 s.\n",
      "Forward pass took 0.025932 s.\n",
      "Forward pass took 0.024921 s.\n",
      "Forward pass took 0.025931 s.\n",
      "Forward pass took 0.025929 s.\n",
      "Forward pass took 0.0259216 s on average.\n",
      "Converting model architecture.\n",
      "Determining Keras behaviour.\n",
      "Converting model weights.\n",
      "Done converting model weights.\n",
      "Calculating model hash.\n",
      "Model conversion finished.\n",
      "writing Magenta Volumes.json\n"
     ]
    }
   ],
   "source": [
    "%run convert_model.py   \"Magenta Onsets 67.74.hdf5\"  \"Magenta Onsets.json\"\n",
    "print()\n",
    "%run convert_model.py  \"Magenta Offsets 44.52.hdf5\" \"Magenta Offsets.json\"\n",
    "print()\n",
    "%run convert_model.py    \"Magenta Frame 76.97.hdf5\"  \"Magenta Frames.json\"\n",
    "print()\n",
    "%run convert_model.py \"Magenta Velocity 93.42.hdf5\" \"Magenta Volumes.json\""
   ]
  }
 ],
 "metadata": {
  "kernelspec": {
   "display_name": "Python 3",
   "language": "python",
   "name": "python3"
  },
  "language_info": {
   "codemirror_mode": {
    "name": "ipython",
    "version": 3
   },
   "file_extension": ".py",
   "mimetype": "text/x-python",
   "name": "python",
   "nbconvert_exporter": "python",
   "pygments_lexer": "ipython3",
   "version": "3.6.8"
  }
 },
 "nbformat": 4,
 "nbformat_minor": 2
}
